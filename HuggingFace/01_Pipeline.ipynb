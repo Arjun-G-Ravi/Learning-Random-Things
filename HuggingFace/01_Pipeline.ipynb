{
 "cells": [
  {
   "cell_type": "code",
   "execution_count": null,
   "metadata": {},
   "outputs": [],
   "source": [
    "import warnings\n",
    "warnings.filterwarnings(\"ignore\")"
   ]
  },
  {
   "cell_type": "markdown",
   "metadata": {},
   "source": [
    "# Outline of pipeline() "
   ]
  },
  {
   "cell_type": "code",
   "execution_count": null,
   "metadata": {},
   "outputs": [],
   "source": [
    "from transformers import pipeline\n",
    "\n",
    "generator = pipeline('text-generation','gpt2')\n",
    "out = generator(\"I love cow because\")\n",
    "print(out[0]['generated_text'])"
   ]
  },
  {
   "cell_type": "markdown",
   "metadata": {},
   "source": [
    "# Parameters"
   ]
  },
  {
   "cell_type": "code",
   "execution_count": null,
   "metadata": {},
   "outputs": [],
   "source": [
    "from transformers import pipeline\n",
    "import torch"
   ]
  },
  {
   "cell_type": "code",
   "execution_count": null,
   "metadata": {},
   "outputs": [],
   "source": [
    "generator = pipeline( # task not actually needed if we are using the word 'model' to specify model name\n",
    "                     model='gpt2',\n",
    "                     device=\"cuda:0\", # 0 and 1 is causing error \n",
    "                     batch_size=2, # Useful when inferencing a lot of different input, to fit in GPU\n",
    "                     torch_dtype=torch.bfloat16 # Uses accelerate to load the model in less VRAM\n",
    "                     )"
   ]
  },
  {
   "cell_type": "code",
   "execution_count": null,
   "metadata": {},
   "outputs": [],
   "source": [
    "out = generator(\"I love cow because\")\n",
    "print(out[0]['generated_text'])"
   ]
  },
  {
   "cell_type": "markdown",
   "metadata": {},
   "source": [
    "yield function Example"
   ]
  },
  {
   "cell_type": "code",
   "execution_count": null,
   "metadata": {},
   "outputs": [],
   "source": [
    "# yield is a special version of return that doesn't break the function's execution flow completely.\n",
    "\n",
    "def test():\n",
    "    for x in range(100):\n",
    "        yield x\n",
    "\n",
    "generator_obj = test()\n",
    "\n",
    "for value in generator_obj:\n",
    "    print(value, end =' ')"
   ]
  },
  {
   "cell_type": "markdown",
   "metadata": {},
   "source": [
    "# Bunch of inference at once"
   ]
  },
  {
   "cell_type": "code",
   "execution_count": null,
   "metadata": {},
   "outputs": [],
   "source": [
    "def data():\n",
    "    for i in range(10):\n",
    "        yield f\"The reason why Kobe is the best basketball player is \"\n",
    "\n",
    "pipe = pipeline(model=\"gpt2\", device='cuda')\n",
    "generated_characters = ''\n",
    "for out in pipe(data()):\n",
    "    generated_characters += out[0][\"generated_text\"] + '\\n'"
   ]
  },
  {
   "cell_type": "code",
   "execution_count": null,
   "metadata": {},
   "outputs": [],
   "source": [
    "print(generated_characters)"
   ]
  },
  {
   "cell_type": "markdown",
   "metadata": {},
   "source": [
    "# Using bitsandbytes to use large model"
   ]
  },
  {
   "cell_type": "code",
   "execution_count": 1,
   "metadata": {},
   "outputs": [
    {
     "name": "stderr",
     "output_type": "stream",
     "text": [
      "Setting `pad_token_id` to `eos_token_id`:50256 for open-end generation.\n",
      "/home/arjun/NewPytorchEnv/lib/python3.10/site-packages/transformers/generation/utils.py:1396: UserWarning: Using the model-agnostic default `max_length` (=50) to control the generation length.  recommend setting `max_new_tokens` to control the maximum length of the generation.\n",
      "  warnings.warn(\n"
     ]
    },
    {
     "name": "stdout",
     "output_type": "stream",
     "text": [
      "[{'generated_text': \"The best thing about hulk is that he is just an absolute joy to watch. I'm a huge fan of Bruce Banner/Hulk, but this guy rocks a whole new world of emotions to this character. I don't usually enjoy this kind\"}]\n"
     ]
    }
   ],
   "source": [
    "import torch\n",
    "from transformers import pipeline\n",
    "\n",
    "# Create the pipeline with the GPT-2 XL model and use mixed-precision (bfloat16)\n",
    "pipe = pipeline(model=\"gpt2-xl\", device='cuda:0', model_kwargs={'torch_dtype': torch.bfloat16})\n",
    "\n",
    "# Generate text using the pipeline\n",
    "output = pipe(\"The best thing about hulk is that\", do_sample=True, top_p=0.95)\n",
    "print(output)\n"
   ]
  }
 ],
 "metadata": {
  "kernelspec": {
   "display_name": "NewPytorchEnv",
   "language": "python",
   "name": "python3"
  },
  "language_info": {
   "codemirror_mode": {
    "name": "ipython",
    "version": 3
   },
   "file_extension": ".py",
   "mimetype": "text/x-python",
   "name": "python",
   "nbconvert_exporter": "python",
   "pygments_lexer": "ipython3",
   "version": "3.10.6"
  },
  "orig_nbformat": 4
 },
 "nbformat": 4,
 "nbformat_minor": 2
}

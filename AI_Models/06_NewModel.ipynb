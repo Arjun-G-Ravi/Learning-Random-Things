{
 "cells": [
  {
   "cell_type": "code",
   "execution_count": null,
   "metadata": {},
   "outputs": [],
   "source": [
    "Imports\n",
    "# !pip install transformers\n",
    "from transformers import GPT2LMHeadModel, GPT2Tokenizer\n",
    "Loading model\n",
    "tokenizer = GPT2Tokenizer.from_pretrained('gpt2-large')\n",
    "model = GPT2LMHeadModel.from_pretrained('gpt2-large', pad_token_id=tokenizer.eos_token_id)\n",
    "Tokenize sentence\n",
    "sentence = \"Facts about bears\"\n",
    "input_ids = tokenizer.encode(sentence, return_tensors='pt')\n",
    "Generate and decode text\n",
    "output = model.generate(input_ids, min_length=30, max_length=100, num_beams=5, no_repeat_ngram_size=2, early_stopping=False)\n",
    "\n",
    "ans = tokenizer.decode(output[0], skip_special_tokens=True)\n",
    "ans\n",
    "with open('01_GPT2Text.txt','w') as f:\n",
    "    f.write(ans)"
   ]
  }
 ],
 "metadata": {
  "language_info": {
   "name": "python"
  },
  "orig_nbformat": 4
 },
 "nbformat": 4,
 "nbformat_minor": 2
}

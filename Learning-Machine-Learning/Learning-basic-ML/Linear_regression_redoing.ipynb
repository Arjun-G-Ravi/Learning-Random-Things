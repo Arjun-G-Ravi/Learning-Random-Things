{
 "cells": [
  {
   "cell_type": "code",
   "execution_count": 1,
   "metadata": {},
   "outputs": [],
   "source": [
    "import numpy as np"
   ]
  },
  {
   "cell_type": "code",
   "execution_count": 2,
   "metadata": {},
   "outputs": [],
   "source": [
    "def cost_function(W,b,X,y):\n",
    "    m=X.shape[0]\n",
    "    cost_sum=0\n",
    "    for i in range(m):\n",
    "        f_Wb=W*X[i]+b\n",
    "  \n",
    "        error_sq=(f_Wb - y[i])**2\n",
    "  \n",
    "        cost_sum+=error_sq\n",
    "    cost=(1/2*m)*cost_sum\n",
    "\n",
    "    return cost"
   ]
  },
  {
   "cell_type": "code",
   "execution_count": 3,
   "metadata": {},
   "outputs": [],
   "source": [
    "def compute_gradient(W,b,X,y):\n",
    "    dJ_dW,dJ_db=0,0\n",
    "    m=X.shape[0]\n",
    "\n",
    "    for i in range(m):\n",
    "        f_Wb=W*X[i] + b\n",
    "        dJ_dW_i=(f_Wb-y[i])*X[i]\n",
    "        dJ_db_i=f_Wb-y[i]\n",
    "        dJ_dW+=dJ_dW_i\n",
    "        dJ_db+=dJ_db_i\n",
    "    \n",
    "    dj_dw/=m\n",
    "    dj_db/=m\n",
    "\n",
    "    return dJ_dW,dJ_db"
   ]
  },
  {
   "cell_type": "code",
   "execution_count": 4,
   "metadata": {},
   "outputs": [],
   "source": [
    "def gradient_descent(iterations,a,W,b,X,y):\n",
    "    W_temp=W\n",
    "    b_temp=b\n",
    "    for i in range(iterations):\n",
    "        W_temp=W-a*compute_gradient(W,b,X,y)[0]\n",
    "        b_temp=b-a*compute_gradient(W,b,X,y)[1]\n",
    "        W=W_temp\n",
    "        b=b_temp\n",
    "\n",
    "    return W,b\n"
   ]
  },
  {
   "cell_type": "code",
   "execution_count": 5,
   "metadata": {},
   "outputs": [
    {
     "name": "stdout",
     "output_type": "stream",
     "text": [
      "(200.000025947329, 99.99995801633985)\n",
      "Reduced cost function= 3.5539179495357483e-10\n"
     ]
    }
   ],
   "source": [
    "a=.01\n",
    "W=100\n",
    "\n",
    "b=-89\n",
    "iterations=10000\n",
    "X = np.array([1.0, 2.0])  \n",
    "y = np.array([300.0, 500.0]) \n",
    "# print(cost_function(W,b,X,y))\n",
    "# print(compute_gradient(W,b,X,y))\n",
    "print(gradient_descent(iterations,a,W,b,X,y))\n",
    "print(\"Reduced cost function=\",cost_function(gradient_descent(iterations,a,W,b,X,y)[0],gradient_descent(iterations,a,W,b,X,y)[1],X,y))"
   ]
  }
 ],
 "metadata": {
  "kernelspec": {
   "display_name": "Python 3.9.7 ('base')",
   "language": "python",
   "name": "python3"
  },
  "language_info": {
   "codemirror_mode": {
    "name": "ipython",
    "version": 3
   },
   "file_extension": ".py",
   "mimetype": "text/x-python",
   "name": "python",
   "nbconvert_exporter": "python",
   "pygments_lexer": "ipython3",
   "version": "3.9.7"
  },
  "orig_nbformat": 4,
  "vscode": {
   "interpreter": {
    "hash": "950b5653ccfc34417735dd321d006fd482b31f7611416c3d8236dc5b17587d3f"
   }
  }
 },
 "nbformat": 4,
 "nbformat_minor": 2
}

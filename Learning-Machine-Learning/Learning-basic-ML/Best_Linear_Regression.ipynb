{
 "cells": [
  {
   "cell_type": "markdown",
   "metadata": {},
   "source": [
    "**Linear Regression in one variable**"
   ]
  },
  {
   "cell_type": "markdown",
   "metadata": {},
   "source": [
    "This is a univariate linear regression model to calculate the price of a house.\n",
    "Area=[100,200,300,400,500,600,700,800,900,1000]     \n",
    "Price(1000 times)=[40,60,80,140,150,190,190,280,340,410]"
   ]
  },
  {
   "cell_type": "markdown",
   "metadata": {},
   "source": [
    "Importing modules"
   ]
  },
  {
   "cell_type": "code",
   "execution_count": 15,
   "metadata": {},
   "outputs": [],
   "source": [
    "import numpy as np\n",
    "import matplotlib.pyplot as plt"
   ]
  },
  {
   "cell_type": "markdown",
   "metadata": {},
   "source": [
    "Defining cost function"
   ]
  },
  {
   "cell_type": "code",
   "execution_count": 16,
   "metadata": {},
   "outputs": [],
   "source": [
    "def cost_function(w,b,X,y):\n",
    "    m=X.shape[0]\n",
    "    cost=0\n",
    "    for i in range(m):\n",
    "        f_wb=w*X[i] + b\n",
    "        error_sq=(y[i] - f_wb)**2\n",
    "        # print(i,error_sq)\n",
    "        cost+=error_sq\n",
    "        # print(\"cost=\",cost)\n",
    "    tot_cost=(1/2*m)*cost\n",
    "    # print(tot_cost)\n",
    "    return tot_cost"
   ]
  },
  {
   "cell_type": "markdown",
   "metadata": {},
   "source": [
    "Defining gradient computation and gradient descent"
   ]
  },
  {
   "cell_type": "code",
   "execution_count": 17,
   "metadata": {},
   "outputs": [],
   "source": [
    "def compute_gradient(w,b,X,y):\n",
    "    dJ_dw=0\n",
    "    dJ_db=0\n",
    "    m=X.shape[0]\n",
    "    # print(m)\n",
    "    \n",
    "    for i in range(m):\n",
    "        f_wb=w*X[i]+ b\n",
    "        dJ_dw_i=(f_wb - y[i])*X[i]\n",
    "        # print(dJ_dw_i)\n",
    "        dJ_db_i=(f_wb - y[i])\n",
    "        dJ_dw += dJ_dw_i\n",
    "        dJ_db += dJ_db_i\n",
    "    dJ_db/=m\n",
    "    dJ_dw/=m\n",
    "    # print(dJ_dw,dJ_db)\n",
    "    return dJ_dw,dJ_db\n",
    "    \n"
   ]
  },
  {
   "cell_type": "code",
   "execution_count": 18,
   "metadata": {},
   "outputs": [],
   "source": [
    "def gradient_descent(w,b,X,y,iterations,alpha):\n",
    "    m=X.shape[0]\n",
    "    J=[]\n",
    "    w_temp=w\n",
    "    b_temp=b\n",
    "    for i in range(iterations):\n",
    "        w_temp=w - alpha*compute_gradient(w,b,X,y)[0]\n",
    "        b_temp=b - alpha*compute_gradient(w,b,X,y)[1]\n",
    "        w=w_temp\n",
    "        b=b_temp\n",
    "        cost=cost_function(w,b,X,y)\n",
    "        J.append(cost)\n",
    "        if i%100==0:\n",
    "            print(f\"Cost at {i} = {cost}\")\n",
    "    print('w=',w)\n",
    "    print('b=',b)\n",
    "        \n",
    "    return J"
   ]
  },
  {
   "cell_type": "markdown",
   "metadata": {},
   "source": [
    "Testing the above functions"
   ]
  },
  {
   "cell_type": "code",
   "execution_count": 19,
   "metadata": {},
   "outputs": [],
   "source": [
    "area=np.array([100,200,300,400,500,600,700,800,900,1000])   # X\n",
    "price=np.array([40,60,80,140,150,190,190,280,340,410])   #y\n",
    "iterations = 1000\n",
    "alpha=.00000001\n",
    "w=10\n",
    "b=1\n",
    "i=[j for j in range(0,iterations)]\n",
    "cost=cost_function(w,b,area,price)\n",
    "# w=gradient_descent(w,b,area,price,iterations,alpha)[0]\n",
    "# b=gradient_descent(w,b,area,price,iterations,alpha)[1]\n",
    "# print(w,b)"
   ]
  },
  {
   "cell_type": "markdown",
   "metadata": {},
   "source": [
    "Drawing a plot to see convergence"
   ]
  },
  {
   "cell_type": "code",
   "execution_count": 20,
   "metadata": {},
   "outputs": [
    {
     "name": "stdout",
     "output_type": "stream",
     "text": [
      "Cost at 0 = 1778398418.1006396\n",
      "Cost at 100 = 822222170.7986677\n",
      "Cost at 200 = 380158195.4539263\n",
      "Cost at 300 = 175781064.30255407\n",
      "Cost at 400 = 81292451.64058737\n",
      "Cost at 500 = 37608024.36286774\n",
      "Cost at 600 = 17411631.0311674\n",
      "Cost at 700 = 8074337.879437939\n",
      "Cost at 800 = 3757475.854028025\n",
      "Cost at 900 = 1761683.5559797615\n",
      "w= 0.5551183014185781\n",
      "b= 0.9864451910954725\n"
     ]
    },
    {
     "data": {
      "image/png": "[encoded data removed]",
      "text/plain": [
       "<Figure size 432x288 with 1 Axes>"
      ]
     },
     "metadata": {
      "needs_background": "light"
     },
     "output_type": "display_data"
    }
   ],
   "source": [
    "plt.scatter(i,gradient_descent(w,b,area,price,iterations,alpha))\n",
    "plt.show()"
   ]
  }
 ],
 "metadata": {
  "kernelspec": {
   "display_name": "Python 3.9.7 ('base')",
   "language": "python",
   "name": "python3"
  },
  "language_info": {
   "codemirror_mode": {
    "name": "ipython",
    "version": 3
   },
   "file_extension": ".py",
   "mimetype": "text/x-python",
   "name": "python",
   "nbconvert_exporter": "python",
   "pygments_lexer": "ipython3",
   "version": "3.9.7"
  },
  "orig_nbformat": 4,
  "vscode": {
   "interpreter": {
    "hash": "950b5653ccfc34417735dd321d006fd482b31f7611416c3d8236dc5b17587d3f"
   }
  }
 },
 "nbformat": 4,
 "nbformat_minor": 2
}

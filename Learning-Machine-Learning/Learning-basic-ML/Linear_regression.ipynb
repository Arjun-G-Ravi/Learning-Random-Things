{
 "cells": [
  {
   "cell_type": "markdown",
   "metadata": {},
   "source": [
    "Importing necessary modules"
   ]
  },
  {
   "cell_type": "code",
   "execution_count": null,
   "metadata": {},
   "outputs": [],
   "source": [
    "import numpy as np"
   ]
  },
  {
   "cell_type": "markdown",
   "metadata": {},
   "source": [
    "Defining cost function"
   ]
  },
  {
   "cell_type": "code",
   "execution_count": null,
   "metadata": {},
   "outputs": [],
   "source": [
    "def cost_function(w,b,X,y):\n",
    "    m=X.shape[0]\n",
    "    cost=0\n",
    "    for i in range(m):\n",
    "        f_wb= X[i]*w + b      \n",
    "        sq_error=(y[i]-f_wb)**2\n",
    "        cost+=sq_error\n",
    "    total_cost=(1/2*m)*cost\n",
    "    return total_cost"
   ]
  },
  {
   "cell_type": "markdown",
   "metadata": {},
   "source": [
    "Manually testing cost function"
   ]
  },
  {
   "cell_type": "code",
   "execution_count": null,
   "metadata": {},
   "outputs": [],
   "source": [
    "X = np.array([1.0, 2.0])  \n",
    "y = np.array([300.0, 500.0]) \n",
    "w=50\n",
    "b=50\n",
    "'''The actual  values are \n",
    "w=[200,200] and b=100 '''\n",
    "print('Cost function=',cost_function(w,b,X,y))"
   ]
  },
  {
   "cell_type": "markdown",
   "metadata": {},
   "source": [
    "Defining Gradient Descent"
   ]
  },
  {
   "cell_type": "code",
   "execution_count": null,
   "metadata": {},
   "outputs": [],
   "source": [
    "def compute_gradient(X,y,w,b):\n",
    "    m=X.shape[0]\n",
    "\n",
    "    dj_dw,dj_db=0,0\n",
    "\n",
    "    for i in range(m):\n",
    "        f_wb=w*X[i] + b\n",
    "\n",
    "        dj_dw_i=(f_wb - y[i]) * X[i]\n",
    "        dj_db_i= f_wb - y[i]\n",
    "\n",
    "        dj_dw+=dj_dw_i\n",
    "        dj_db+=dj_db_i\n",
    "\n",
    "    dj_dw/=m\n",
    "    dj_db/=m\n",
    "\n",
    "    return dj_dw, dj_db"
   ]
  },
  {
   "cell_type": "code",
   "execution_count": null,
   "metadata": {},
   "outputs": [],
   "source": [
    "def gradient_descent(X,y,w,b,a,iterations):\n",
    "    temp_w=w\n",
    "    temp_b=b\n",
    "    for i in range(iterations):\n",
    "        temp_w=w-a*compute_gradient(X,y,w,b)[0]\n",
    "        \n",
    "        temp_b=b-a*compute_gradient(X,y,w,b)[1]\n",
    "        w=temp_w\n",
    "        b=temp_b\n",
    "\n",
    "    print('w=',w)\n",
    "    print('b=',b)"
   ]
  },
  {
   "cell_type": "markdown",
   "metadata": {},
   "source": [
    "Testing Gradient descent"
   ]
  },
  {
   "cell_type": "code",
   "execution_count": null,
   "metadata": {},
   "outputs": [],
   "source": [
    "w=100\n",
    "b=10\n",
    "a=.01\n",
    "i=2000\n",
    "\n",
    "gradient_descent(X,y,w,b,a,i)\n"
   ]
  }
 ],
 "metadata": {
  "kernelspec": {
   "display_name": "Python 3.9.7 ('base')",
   "language": "python",
   "name": "python3"
  },
  "language_info": {
   "codemirror_mode": {
    "name": "ipython",
    "version": 3
   },
   "file_extension": ".py",
   "mimetype": "text/x-python",
   "name": "python",
   "nbconvert_exporter": "python",
   "pygments_lexer": "ipython3",
   "version": "3.9.7"
  },
  "orig_nbformat": 4,
  "vscode": {
   "interpreter": {
    "hash": "950b5653ccfc34417735dd321d006fd482b31f7611416c3d8236dc5b17587d3f"
   }
  }
 },
 "nbformat": 4,
 "nbformat_minor": 2
}

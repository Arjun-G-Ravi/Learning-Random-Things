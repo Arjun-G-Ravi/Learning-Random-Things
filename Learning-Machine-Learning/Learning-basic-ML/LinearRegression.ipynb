{
 "cells": [
  {
   "cell_type": "code",
   "execution_count": 40,
   "metadata": {},
   "outputs": [],
   "source": [
    "import numpy as np\n",
    "import matplotlib.pyplot as plt"
   ]
  },
  {
   "cell_type": "code",
   "execution_count": 41,
   "metadata": {},
   "outputs": [],
   "source": [
    "def cost_function(w,b,X,y):\n",
    "    m=X.shape[0]\n",
    "    cost=0\n",
    "    for i in range(m):\n",
    "        f_wb=w*X[i] + b\n",
    "        sq_error=(f_wb - y[i])**2\n",
    "        cost+=sq_error\n",
    "    tot_cost=(1/2*m)*cost\n",
    "\n",
    "    return tot_cost"
   ]
  },
  {
   "cell_type": "code",
   "execution_count": 42,
   "metadata": {},
   "outputs": [],
   "source": [
    "def compute_gradient(w,b,X,y):\n",
    "    m=X.shape[0]\n",
    "    dJ_dw=0\n",
    "    dJ_db=0\n",
    "\n",
    "    for i in range(m):\n",
    "        f_wb=w*X[i] + b\n",
    "        dJ_dw_i=(f_wb-y[i])*X[i]\n",
    "        dJ_db_i=f_wb-y[i]\n",
    "        dJ_dw+=dJ_dw_i\n",
    "        dJ_db+=dJ_db_i\n",
    "    \n",
    "\n",
    "    dJ_dw/=m\n",
    "    dJ_db/=m\n",
    "    return dJ_dw,dJ_db"
   ]
  },
  {
   "cell_type": "code",
   "execution_count": 43,
   "metadata": {},
   "outputs": [],
   "source": [
    "def gradient_descent(w,b,X,y,iterations,alpha):\n",
    "    L=[]\n",
    "    I=[]\n",
    "    \n",
    "    w_temp=w\n",
    "    b_temp=b\n",
    "    m=X.shape[0]\n",
    "    for i in range(iterations):\n",
    "        w_temp=w-alpha*compute_gradient(w,b,X,y)[0]\n",
    "        b_temp=b-alpha*compute_gradient(w,b,X,y)[1]\n",
    "        w=w_temp\n",
    "        b=b_temp\n",
    "        J=cost_function(w,b,X,y)\n",
    "        L.append(J)\n",
    "        I.append(i)\n",
    "    plt.scatter(I,L)\n",
    "    plt.show()\n",
    "        \n",
    "        \n",
    "    return w,b"
   ]
  },
  {
   "cell_type": "code",
   "execution_count": 44,
   "metadata": {},
   "outputs": [
    {
     "name": "stdout",
     "output_type": "stream",
     "text": [
      "11125.0\n"
     ]
    },
    {
     "data": {
      "image/png": "[encoded data removed]",
      "text/plain": [
       "<Figure size 432x288 with 1 Axes>"
      ]
     },
     "metadata": {
      "needs_background": "light"
     },
     "output_type": "display_data"
    },
    {
     "name": "stdout",
     "output_type": "stream",
     "text": [
      "259 80\n"
     ]
    }
   ],
   "source": [
    "w=259 # w=200\n",
    "b=80    # b=100\n",
    "alpha=.01\n",
    "iterations=10000\n",
    "X = np.array([1.0, 2.0])  \n",
    "y = np.array([300.0, 500.0]) \n",
    "print(cost_function(w,b,X,y))\n",
    "w_p,b_p=gradient_descent(w,b,X,y,iterations,alpha)\n",
    "print(w,b)"
   ]
  },
  {
   "cell_type": "code",
   "execution_count": 45,
   "metadata": {},
   "outputs": [],
   "source": [
    "def prediction(X,w,b):\n",
    "    m=X.shape[0]\n",
    "    y_list=np.zeros(m)\n",
    "    for i in range(m):\n",
    "        y=w*X[i] + b\n",
    "        y_list[i]=y\n",
    "    return y_list\n",
    "        "
   ]
  },
  {
   "cell_type": "code",
   "execution_count": 48,
   "metadata": {},
   "outputs": [
    {
     "data": {
      "text/plain": [
       "array([2100.14333125])"
      ]
     },
     "execution_count": 48,
     "metadata": {},
     "output_type": "execute_result"
    }
   ],
   "source": [
    "X2=np.array([10])\n",
    "prediction(X2,w_p,b_p)"
   ]
  }
 ],
 "metadata": {
  "kernelspec": {
   "display_name": "Python 3.9.7 ('base')",
   "language": "python",
   "name": "python3"
  },
  "language_info": {
   "codemirror_mode": {
    "name": "ipython",
    "version": 3
   },
   "file_extension": ".py",
   "mimetype": "text/x-python",
   "name": "python",
   "nbconvert_exporter": "python",
   "pygments_lexer": "ipython3",
   "version": "3.9.7"
  },
  "orig_nbformat": 4,
  "vscode": {
   "interpreter": {
    "hash": "950b5653ccfc34417735dd321d006fd482b31f7611416c3d8236dc5b17587d3f"
   }
  }
 },
 "nbformat": 4,
 "nbformat_minor": 2
}

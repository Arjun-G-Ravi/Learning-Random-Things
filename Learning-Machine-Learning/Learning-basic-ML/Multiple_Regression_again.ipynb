{
 "cells": [
  {
   "cell_type": "markdown",
   "metadata": {},
   "source": [
    "DATA TO TRAIN ON:\n",
    "\n",
    "X_train = np.array([[2104, 5, 1, 45], [1416, 3, 2, 40], [852, 2, 1, 35]])\n",
    "\n",
    "y_train = np.array([460, 232, 178])"
   ]
  },
  {
   "cell_type": "markdown",
   "metadata": {},
   "source": [
    "Importing modules"
   ]
  },
  {
   "cell_type": "code",
   "execution_count": 19,
   "metadata": {},
   "outputs": [],
   "source": [
    "import numpy as np\n",
    "import matplotlib.pyplot as plt\n",
    "import copy"
   ]
  },
  {
   "cell_type": "markdown",
   "metadata": {},
   "source": [
    "Computing cost"
   ]
  },
  {
   "cell_type": "code",
   "execution_count": 20,
   "metadata": {},
   "outputs": [],
   "source": [
    "def cost_function(W,b,X,y):\n",
    "    m,n = X.shape           # m is the number of training elements\n",
    "    cost = 0                # n is the number of features\n",
    "    \n",
    "    for i in range(m):\n",
    "        f_Wb = np.dot(W,X[i]) + b\n",
    "        error_sq=(f_Wb - y[i])**2\n",
    "        cost+=error_sq\n",
    "    tot_cost=(1/2*m)*cost\n",
    "    return int(tot_cost)\n"
   ]
  },
  {
   "cell_type": "markdown",
   "metadata": {},
   "source": [
    "Finding derivatives"
   ]
  },
  {
   "cell_type": "code",
   "execution_count": 21,
   "metadata": {},
   "outputs": [],
   "source": [
    "def compute_gradient (W,b,X,y):\n",
    "    dJ_dW,dJ_db=0,0\n",
    "    \n",
    "    m,n= X.shape\n",
    "    for i in range(m):\n",
    "        f_Wb = np.dot(W,X[i]) + b\n",
    "        for j in range(n):\n",
    "            dJ_dW_i = (f_Wb - y[i]) * X[i][j]\n",
    "        dJ_db_i = f_Wb - y[i]\n",
    "        dJ_dW+=dJ_dW_i\n",
    "        dJ_db+=dJ_db_i\n",
    "    dJ_dW/=m\n",
    "    dJ_db/=m\n",
    "    \n",
    "    return int(dJ_dW),int(dJ_db )"
   ]
  },
  {
   "cell_type": "markdown",
   "metadata": {},
   "source": [
    "Performing gradient descent"
   ]
  },
  {
   "cell_type": "code",
   "execution_count": 22,
   "metadata": {},
   "outputs": [],
   "source": [
    "def gradient_descent(iterations,alpha,W,b,X,y):\n",
    "    m,n=X.shape\n",
    "    b_temp=b\n",
    "    W_temp=copy.deepcopy(W)\n",
    "    J_list=[]\n",
    "    for i in range(iterations):\n",
    "        W_temp= W - alpha * compute_gradient (W,b,X,y)[0]\n",
    "        b_temp= b - alpha * compute_gradient (W,b,X,y)[1]\n",
    "        W=W_temp\n",
    "        b=b_temp\n",
    "        j=cost_function(W,b,X,y)\n",
    "        J_list.append(j)\n",
    "    return W,b,J_list\n"
   ]
  },
  {
   "cell_type": "markdown",
   "metadata": {},
   "source": [
    "Setting things up "
   ]
  },
  {
   "cell_type": "code",
   "execution_count": 23,
   "metadata": {},
   "outputs": [
    {
     "name": "stdout",
     "output_type": "stream",
     "text": [
      "16770\n",
      "[[0.129752 0.129752 0.129752 0.129752]] 99.99903099999618\n"
     ]
    }
   ],
   "source": [
    "alpha=.000001\n",
    "iterations=1000\n",
    "iter=np.arange(1,iterations+1)\n",
    "W=np.zeros(4)\n",
    "W.shape=(1,4)\n",
    "b=100\n",
    "X = np.array([[2104, 5, 1, 45], [1416, 3, 2, 40], [852, 2, 1, 35]])\n",
    "y = np.array([460, 232, 178])\n",
    "\n",
    "# cost_function(W,b,X,y)\n",
    "# compute_gradient(W,b,X,y)\n",
    "W,b,J_list=(gradient_descent(iterations,alpha,W,b,X,y))\n",
    "J=cost_function(W,b,X,y)\n",
    "print(J)\n",
    "print(W,b)"
   ]
  },
  {
   "cell_type": "markdown",
   "metadata": {},
   "source": [
    "Plotting in a graph"
   ]
  },
  {
   "cell_type": "code",
   "execution_count": 24,
   "metadata": {},
   "outputs": [
    {
     "data": {
      "image/png": "[encoded data removed]",
      "text/plain": [
       "<Figure size 432x288 with 1 Axes>"
      ]
     },
     "metadata": {
      "needs_background": "light"
     },
     "output_type": "display_data"
    }
   ],
   "source": [
    "plt.plot(iter,J_list)\n",
    "# print(J)\n",
    "plt.show()"
   ]
  }
 ],
 "metadata": {
  "kernelspec": {
   "display_name": "Python 3.9.7 ('base')",
   "language": "python",
   "name": "python3"
  },
  "language_info": {
   "codemirror_mode": {
    "name": "ipython",
    "version": 3
   },
   "file_extension": ".py",
   "mimetype": "text/x-python",
   "name": "python",
   "nbconvert_exporter": "python",
   "pygments_lexer": "ipython3",
   "version": "3.9.7"
  },
  "orig_nbformat": 4,
  "vscode": {
   "interpreter": {
    "hash": "950b5653ccfc34417735dd321d006fd482b31f7611416c3d8236dc5b17587d3f"
   }
  }
 },
 "nbformat": 4,
 "nbformat_minor": 2
}

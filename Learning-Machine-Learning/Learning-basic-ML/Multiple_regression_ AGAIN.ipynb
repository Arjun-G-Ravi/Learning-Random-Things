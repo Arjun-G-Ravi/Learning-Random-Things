{
 "cells": [
  {
   "cell_type": "code",
   "execution_count": 92,
   "metadata": {},
   "outputs": [],
   "source": [
    "import copy\n",
    "import numpy as np\n",
    "import matplotlib.pyplot as plt"
   ]
  },
  {
   "cell_type": "code",
   "execution_count": 93,
   "metadata": {},
   "outputs": [],
   "source": [
    "def cost_function(W,b,X,y):\n",
    "    m=X.shape[0]\n",
    "    cost=0\n",
    "    \n",
    "    for i in range(m):\n",
    "        f_wb = np.dot(X[i],W) + b\n",
    "        sq_error = (f_wb - y[i]) **2\n",
    "        cost+=sq_error\n",
    "    cost/=2*m\n",
    "    return cost"
   ]
  },
  {
   "cell_type": "code",
   "execution_count": 94,
   "metadata": {},
   "outputs": [],
   "source": [
    "def compute_cost(W,b,X,y):\n",
    "    m,n=X.shape\n",
    "    dJ_dW= np.zeros((n,))\n",
    "    dJ_db=0\n",
    "    \n",
    "    for i in range(m):\n",
    "        f_Wb = np.dot(X[i],W) + b\n",
    "        error = f_Wb - y[i]\n",
    "        for j in range(n):\n",
    "            dJ_dW[j] += error * X[i,j]\n",
    "        dJ_db += error\n",
    "    dJ_dW /=m\n",
    "    dJ_db /=m\n",
    "    return dJ_dW,dJ_db"
   ]
  },
  {
   "cell_type": "code",
   "execution_count": 95,
   "metadata": {},
   "outputs": [],
   "source": [
    "\n",
    "def gradient_descent(iterations,alpha,W,b,X,y):\n",
    "    b_temp = b\n",
    "    J=[]\n",
    "    W_temp = copy.deepcopy(W)\n",
    "    for i in range (iterations):\n",
    "        W_temp = W - alpha * compute_cost(W,b,X,y)[0]\n",
    "        b_temp = b - alpha * compute_cost(W,b,X,y)[1]\n",
    "        b = b_temp\n",
    "        W = W_temp\n",
    "        J.append(cost_function(W,b,X,y))\n",
    "    return W,b,J\n",
    "    \n",
    "    "
   ]
  },
  {
   "cell_type": "code",
   "execution_count": 96,
   "metadata": {},
   "outputs": [
    {
     "name": "stdout",
     "output_type": "stream",
     "text": [
      "W = [ 0.20396569  0.00374919 -0.0112487  -0.0658614 ]\n",
      "b = -0.002249754163307697\n",
      "cost =  677.197971414914\n"
     ]
    }
   ],
   "source": [
    "alpha=.0000005\n",
    "iterations=1000\n",
    "x_axis = np.arange(iterations)\n",
    "iter=np.arange(1,iterations+1)\n",
    "W=np.zeros(4)\n",
    "# W.shape=(1,4)\n",
    "b=0\n",
    "X = np.array([[2104, 5, 1, 45], [1416, 3, 2, 40], [852, 2, 1, 35]])\n",
    "y = np.array([460, 232, 178])\n",
    "# cost_function(W,b,X,y)\n",
    "# compute_cost(W,b,X,y)\n",
    "W =gradient_descent(iterations,alpha,W,b,X,y)[0]\n",
    "b=gradient_descent(iterations,alpha,W,b,X,y)[1]\n",
    "J=gradient_descent(iterations,alpha,W,b,X,y)[2]\n",
    "print(f\"W = {W}\\nb = {b}\")\n",
    "print(\"cost = \",J[-1])\n",
    "\n",
    "\n",
    "\n"
   ]
  },
  {
   "cell_type": "code",
   "execution_count": 97,
   "metadata": {},
   "outputs": [
    {
     "data": {
      "text/plain": [
       "[]"
      ]
     },
     "execution_count": 97,
     "metadata": {},
     "output_type": "execute_result"
    },
    {
     "data": {
      "image/png": "[encoded data removed]",
      "text/plain": [
       "<Figure size 432x288 with 1 Axes>"
      ]
     },
     "metadata": {
      "needs_background": "light"
     },
     "output_type": "display_data"
    }
   ],
   "source": [
    "plt.plot(x_axis,J)\n",
    "plt.plot()"
   ]
  }
 ],
 "metadata": {
  "kernelspec": {
   "display_name": "Python 3.9.7 ('base')",
   "language": "python",
   "name": "python3"
  },
  "language_info": {
   "codemirror_mode": {
    "name": "ipython",
    "version": 3
   },
   "file_extension": ".py",
   "mimetype": "text/x-python",
   "name": "python",
   "nbconvert_exporter": "python",
   "pygments_lexer": "ipython3",
   "version": "3.9.7"
  },
  "orig_nbformat": 4,
  "vscode": {
   "interpreter": {
    "hash": "950b5653ccfc34417735dd321d006fd482b31f7611416c3d8236dc5b17587d3f"
   }
  }
 },
 "nbformat": 4,
 "nbformat_minor": 2
}

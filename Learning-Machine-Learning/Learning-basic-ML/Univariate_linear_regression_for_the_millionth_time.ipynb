{
 "cells": [
  {
   "cell_type": "code",
   "execution_count": 111,
   "metadata": {},
   "outputs": [],
   "source": [
    "import numpy as np\n",
    "import copy\n",
    "import matplotlib.pyplot as plt"
   ]
  },
  {
   "cell_type": "code",
   "execution_count": 112,
   "metadata": {},
   "outputs": [],
   "source": [
    "def cost_function(w,b,X,y):\n",
    "    m = X.shape[0]\n",
    "    cost = 0\n",
    "    for i in range(m):\n",
    "        f_wb = w*X[i] + b\n",
    "        err = (f_wb - y[i])**2  \n",
    "        cost += err\n",
    "        \n",
    "    tot_cost = (1/2*m) * cost   \n",
    "    return tot_cost"
   ]
  },
  {
   "cell_type": "code",
   "execution_count": 113,
   "metadata": {},
   "outputs": [],
   "source": [
    "def derivative_compute(w,b,X,y):\n",
    "    m = X.shape[0]\n",
    "    dJ_dw = 0\n",
    "    dJ_db = 0\n",
    "    \n",
    "    for i in range(m):\n",
    "        f_wb = w * X[i] + b\n",
    "        dJ_dw_i = (f_wb - y[i] ) * X[i]\n",
    "        dJ_db_i = (f_wb - y[i] )\n",
    "        \n",
    "        dJ_dw += dJ_dw_i\n",
    "        dJ_db += dJ_db_i\n",
    "    return dJ_dw/m , dJ_db/m\n",
    "        "
   ]
  },
  {
   "cell_type": "code",
   "execution_count": 114,
   "metadata": {},
   "outputs": [],
   "source": [
    "def gradient_descent(w,b,X,y,alpha,n):\n",
    "    m = X.shape[0]\n",
    "    J=[]\n",
    "    for i in range(n):\n",
    "        w_temp =w -( alpha ) * derivative_compute(w,b,X,y)[0]\n",
    "        b_temp =b -( alpha ) * derivative_compute(w,b,X,y)[1]\n",
    "        w = w_temp\n",
    "        b = b_temp\n",
    "        if n%100 == 0:\n",
    "            J.append(cost_function(w,b,X,y))\n",
    "    print('w =',w)\n",
    "    print('b =',b)\n",
    "    return J"
   ]
  },
  {
   "cell_type": "code",
   "execution_count": 115,
   "metadata": {},
   "outputs": [
    {
     "name": "stdout",
     "output_type": "stream",
     "text": [
      "w = 199.99996231796635\n",
      "b = 100.00006097081125\n",
      "\n"
     ]
    }
   ],
   "source": [
    "X = np.array([1,2])\n",
    "y = np.array([300,500])\n",
    "w =100\n",
    "b= 231\n",
    "alpha =.1\n",
    "n=2000\n",
    "J = gradient_descent(w,b,X,y,alpha,n)\n",
    "print()\n"
   ]
  },
  {
   "cell_type": "code",
   "execution_count": 116,
   "metadata": {},
   "outputs": [
    {
     "data": {
      "image/png": "[encoded data removed]",
      "text/plain": [
       "<Figure size 432x288 with 1 Axes>"
      ]
     },
     "metadata": {
      "needs_background": "light"
     },
     "output_type": "display_data"
    }
   ],
   "source": [
    "plt.scatter(J,[i for i in range(len(J))])\n",
    "plt.show()"
   ]
  }
 ],
 "metadata": {
  "kernelspec": {
   "display_name": "Python 3.9.7 ('base')",
   "language": "python",
   "name": "python3"
  },
  "language_info": {
   "codemirror_mode": {
    "name": "ipython",
    "version": 3
   },
   "file_extension": ".py",
   "mimetype": "text/x-python",
   "name": "python",
   "nbconvert_exporter": "python",
   "pygments_lexer": "ipython3",
   "version": "3.9.7"
  },
  "orig_nbformat": 4,
  "vscode": {
   "interpreter": {
    "hash": "950b5653ccfc34417735dd321d006fd482b31f7611416c3d8236dc5b17587d3f"
   }
  }
 },
 "nbformat": 4,
 "nbformat_minor": 2
}

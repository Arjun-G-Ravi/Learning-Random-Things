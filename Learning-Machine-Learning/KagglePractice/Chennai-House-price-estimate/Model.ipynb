{
 "cells": [
  {
   "cell_type": "markdown",
   "metadata": {},
   "source": [
    "# Initialisation"
   ]
  },
  {
   "cell_type": "markdown",
   "metadata": {},
   "source": [
    "## Importing modules"
   ]
  },
  {
   "cell_type": "code",
   "execution_count": 2,
   "metadata": {},
   "outputs": [],
   "source": [
    "import pandas as pd\n",
    "import matplotlib.pyplot as plt\n",
    "import numpy as np\n",
    "from sklearn.ensemble import RandomForestRegressor\n",
    "from sklearn.metrics import mean_absolute_error\n",
    "from sklearn.model_selection import train_test_split\n",
    "import seaborn as sns\n",
    "from datetime import datetime"
   ]
  },
  {
   "cell_type": "markdown",
   "metadata": {},
   "source": [
    "## Set option for  rows and columns in VSCode"
   ]
  },
  {
   "cell_type": "code",
   "execution_count": 3,
   "metadata": {},
   "outputs": [],
   "source": [
    "pd.set_option('display.max_columns', None)\n",
    "# pd.set_option('display.max_rows', None)"
   ]
  },
  {
   "cell_type": "markdown",
   "metadata": {},
   "source": [
    "## Creating DataFrame"
   ]
  },
  {
   "cell_type": "code",
   "execution_count": 4,
   "metadata": {},
   "outputs": [],
   "source": [
    "df = pd.read_csv('Chennai houseing sale.csv', index_col = False)"
   ]
  },
  {
   "cell_type": "markdown",
   "metadata": {},
   "source": [
    "# Exploratory Data Analysis (EDA)"
   ]
  },
  {
   "cell_type": "markdown",
   "metadata": {},
   "source": [
    "## Knowing the data"
   ]
  },
  {
   "cell_type": "code",
   "execution_count": 5,
   "metadata": {},
   "outputs": [
    {
     "data": {
      "text/html": [
       "<div>\n",
       "<style scoped>\n",
       "    .dataframe tbody tr th:only-of-type {\n",
       "        vertical-align: middle;\n",
       "    }\n",
       "\n",
       "    .dataframe tbody tr th {\n",
       "        vertical-align: top;\n",
       "    }\n",
       "\n",
       "    .dataframe thead th {\n",
       "        text-align: right;\n",
       "    }\n",
       "</style>\n",
       "<table border=\"1\" class=\"dataframe\">\n",
       "  <thead>\n",
       "    <tr style=\"text-align: right;\">\n",
       "      <th></th>\n",
       "      <th>PRT_ID</th>\n",
       "      <th>AREA</th>\n",
       "      <th>INT_SQFT</th>\n",
       "      <th>DATE_SALE</th>\n",
       "      <th>DIST_MAINROAD</th>\n",
       "      <th>N_BEDROOM</th>\n",
       "      <th>N_BATHROOM</th>\n",
       "      <th>N_ROOM</th>\n",
       "      <th>SALE_COND</th>\n",
       "      <th>PARK_FACIL</th>\n",
       "      <th>DATE_BUILD</th>\n",
       "      <th>BUILDTYPE</th>\n",
       "      <th>UTILITY_AVAIL</th>\n",
       "      <th>STREET</th>\n",
       "      <th>MZZONE</th>\n",
       "      <th>QS_ROOMS</th>\n",
       "      <th>QS_BATHROOM</th>\n",
       "      <th>QS_BEDROOM</th>\n",
       "      <th>QS_OVERALL</th>\n",
       "      <th>REG_FEE</th>\n",
       "      <th>COMMIS</th>\n",
       "      <th>SALES_PRICE</th>\n",
       "    </tr>\n",
       "  </thead>\n",
       "  <tbody>\n",
       "    <tr>\n",
       "      <th>0</th>\n",
       "      <td>P03210</td>\n",
       "      <td>Karapakkam</td>\n",
       "      <td>1004</td>\n",
       "      <td>04-05-2011</td>\n",
       "      <td>131</td>\n",
       "      <td>1.0</td>\n",
       "      <td>1.0</td>\n",
       "      <td>3</td>\n",
       "      <td>AbNormal</td>\n",
       "      <td>Yes</td>\n",
       "      <td>15-05-1967</td>\n",
       "      <td>Commercial</td>\n",
       "      <td>AllPub</td>\n",
       "      <td>Paved</td>\n",
       "      <td>A</td>\n",
       "      <td>4.0</td>\n",
       "      <td>3.9</td>\n",
       "      <td>4.9</td>\n",
       "      <td>4.330</td>\n",
       "      <td>380000</td>\n",
       "      <td>144400</td>\n",
       "      <td>7600000</td>\n",
       "    </tr>\n",
       "    <tr>\n",
       "      <th>1</th>\n",
       "      <td>P09411</td>\n",
       "      <td>Anna Nagar</td>\n",
       "      <td>1986</td>\n",
       "      <td>19-12-2006</td>\n",
       "      <td>26</td>\n",
       "      <td>2.0</td>\n",
       "      <td>1.0</td>\n",
       "      <td>5</td>\n",
       "      <td>AbNormal</td>\n",
       "      <td>No</td>\n",
       "      <td>22-12-1995</td>\n",
       "      <td>Commercial</td>\n",
       "      <td>AllPub</td>\n",
       "      <td>Gravel</td>\n",
       "      <td>RH</td>\n",
       "      <td>4.9</td>\n",
       "      <td>4.2</td>\n",
       "      <td>2.5</td>\n",
       "      <td>3.765</td>\n",
       "      <td>760122</td>\n",
       "      <td>304049</td>\n",
       "      <td>21717770</td>\n",
       "    </tr>\n",
       "    <tr>\n",
       "      <th>2</th>\n",
       "      <td>P01812</td>\n",
       "      <td>Adyar</td>\n",
       "      <td>909</td>\n",
       "      <td>04-02-2012</td>\n",
       "      <td>70</td>\n",
       "      <td>1.0</td>\n",
       "      <td>1.0</td>\n",
       "      <td>3</td>\n",
       "      <td>AbNormal</td>\n",
       "      <td>Yes</td>\n",
       "      <td>09-02-1992</td>\n",
       "      <td>Commercial</td>\n",
       "      <td>ELO</td>\n",
       "      <td>Gravel</td>\n",
       "      <td>RL</td>\n",
       "      <td>4.1</td>\n",
       "      <td>3.8</td>\n",
       "      <td>2.2</td>\n",
       "      <td>3.090</td>\n",
       "      <td>421094</td>\n",
       "      <td>92114</td>\n",
       "      <td>13159200</td>\n",
       "    </tr>\n",
       "    <tr>\n",
       "      <th>3</th>\n",
       "      <td>P05346</td>\n",
       "      <td>Velachery</td>\n",
       "      <td>1855</td>\n",
       "      <td>13-03-2010</td>\n",
       "      <td>14</td>\n",
       "      <td>3.0</td>\n",
       "      <td>2.0</td>\n",
       "      <td>5</td>\n",
       "      <td>Family</td>\n",
       "      <td>No</td>\n",
       "      <td>18-03-1988</td>\n",
       "      <td>Others</td>\n",
       "      <td>NoSewr</td>\n",
       "      <td>Paved</td>\n",
       "      <td>I</td>\n",
       "      <td>4.7</td>\n",
       "      <td>3.9</td>\n",
       "      <td>3.6</td>\n",
       "      <td>4.010</td>\n",
       "      <td>356321</td>\n",
       "      <td>77042</td>\n",
       "      <td>9630290</td>\n",
       "    </tr>\n",
       "    <tr>\n",
       "      <th>4</th>\n",
       "      <td>P06210</td>\n",
       "      <td>Karapakkam</td>\n",
       "      <td>1226</td>\n",
       "      <td>05-10-2009</td>\n",
       "      <td>84</td>\n",
       "      <td>1.0</td>\n",
       "      <td>1.0</td>\n",
       "      <td>3</td>\n",
       "      <td>AbNormal</td>\n",
       "      <td>Yes</td>\n",
       "      <td>13-10-1979</td>\n",
       "      <td>Others</td>\n",
       "      <td>AllPub</td>\n",
       "      <td>Gravel</td>\n",
       "      <td>C</td>\n",
       "      <td>3.0</td>\n",
       "      <td>2.5</td>\n",
       "      <td>4.1</td>\n",
       "      <td>3.290</td>\n",
       "      <td>237000</td>\n",
       "      <td>74063</td>\n",
       "      <td>7406250</td>\n",
       "    </tr>\n",
       "  </tbody>\n",
       "</table>\n",
       "</div>"
      ],
      "text/plain": [
       "   PRT_ID        AREA  INT_SQFT   DATE_SALE  DIST_MAINROAD  N_BEDROOM  \\\n",
       "0  P03210  Karapakkam      1004  04-05-2011            131        1.0   \n",
       "1  P09411  Anna Nagar      1986  19-12-2006             26        2.0   \n",
       "2  P01812       Adyar       909  04-02-2012             70        1.0   \n",
       "3  P05346   Velachery      1855  13-03-2010             14        3.0   \n",
       "4  P06210  Karapakkam      1226  05-10-2009             84        1.0   \n",
       "\n",
       "   N_BATHROOM  N_ROOM SALE_COND PARK_FACIL  DATE_BUILD   BUILDTYPE  \\\n",
       "0         1.0       3  AbNormal        Yes  15-05-1967  Commercial   \n",
       "1         1.0       5  AbNormal         No  22-12-1995  Commercial   \n",
       "2         1.0       3  AbNormal        Yes  09-02-1992  Commercial   \n",
       "3         2.0       5    Family         No  18-03-1988      Others   \n",
       "4         1.0       3  AbNormal        Yes  13-10-1979      Others   \n",
       "\n",
       "  UTILITY_AVAIL  STREET MZZONE  QS_ROOMS  QS_BATHROOM  QS_BEDROOM  QS_OVERALL  \\\n",
       "0        AllPub   Paved      A       4.0          3.9         4.9       4.330   \n",
       "1        AllPub  Gravel     RH       4.9          4.2         2.5       3.765   \n",
       "2           ELO  Gravel     RL       4.1          3.8         2.2       3.090   \n",
       "3       NoSewr    Paved      I       4.7          3.9         3.6       4.010   \n",
       "4        AllPub  Gravel      C       3.0          2.5         4.1       3.290   \n",
       "\n",
       "   REG_FEE  COMMIS  SALES_PRICE  \n",
       "0   380000  144400      7600000  \n",
       "1   760122  304049     21717770  \n",
       "2   421094   92114     13159200  \n",
       "3   356321   77042      9630290  \n",
       "4   237000   74063      7406250  "
      ]
     },
     "execution_count": 5,
     "metadata": {},
     "output_type": "execute_result"
    }
   ],
   "source": [
    "# To have a real idea about the data\n",
    "\n",
    "df.head()"
   ]
  },
  {
   "cell_type": "code",
   "execution_count": 6,
   "metadata": {},
   "outputs": [
    {
     "name": "stdout",
     "output_type": "stream",
     "text": [
      "<class 'pandas.core.frame.DataFrame'>\n",
      "RangeIndex: 7109 entries, 0 to 7108\n",
      "Data columns (total 22 columns):\n",
      " #   Column         Non-Null Count  Dtype  \n",
      "---  ------         --------------  -----  \n",
      " 0   PRT_ID         7109 non-null   object \n",
      " 1   AREA           7109 non-null   object \n",
      " 2   INT_SQFT       7109 non-null   int64  \n",
      " 3   DATE_SALE      7109 non-null   object \n",
      " 4   DIST_MAINROAD  7109 non-null   int64  \n",
      " 5   N_BEDROOM      7108 non-null   float64\n",
      " 6   N_BATHROOM     7104 non-null   float64\n",
      " 7   N_ROOM         7109 non-null   int64  \n",
      " 8   SALE_COND      7109 non-null   object \n",
      " 9   PARK_FACIL     7109 non-null   object \n",
      " 10  DATE_BUILD     7109 non-null   object \n",
      " 11  BUILDTYPE      7109 non-null   object \n",
      " 12  UTILITY_AVAIL  7109 non-null   object \n",
      " 13  STREET         7109 non-null   object \n",
      " 14  MZZONE         7109 non-null   object \n",
      " 15  QS_ROOMS       7109 non-null   float64\n",
      " 16  QS_BATHROOM    7109 non-null   float64\n",
      " 17  QS_BEDROOM     7109 non-null   float64\n",
      " 18  QS_OVERALL     7061 non-null   float64\n",
      " 19  REG_FEE        7109 non-null   int64  \n",
      " 20  COMMIS         7109 non-null   int64  \n",
      " 21  SALES_PRICE    7109 non-null   int64  \n",
      "dtypes: float64(6), int64(6), object(10)\n",
      "memory usage: 1.2+ MB\n"
     ]
    }
   ],
   "source": [
    "#To get general information about the columns\n",
    "df.info()"
   ]
  },
  {
   "cell_type": "code",
   "execution_count": 7,
   "metadata": {},
   "outputs": [
    {
     "data": {
      "text/html": [
       "<div>\n",
       "<style scoped>\n",
       "    .dataframe tbody tr th:only-of-type {\n",
       "        vertical-align: middle;\n",
       "    }\n",
       "\n",
       "    .dataframe tbody tr th {\n",
       "        vertical-align: top;\n",
       "    }\n",
       "\n",
       "    .dataframe thead th {\n",
       "        text-align: right;\n",
       "    }\n",
       "</style>\n",
       "<table border=\"1\" class=\"dataframe\">\n",
       "  <thead>\n",
       "    <tr style=\"text-align: right;\">\n",
       "      <th></th>\n",
       "      <th>INT_SQFT</th>\n",
       "      <th>DIST_MAINROAD</th>\n",
       "      <th>N_BEDROOM</th>\n",
       "      <th>N_BATHROOM</th>\n",
       "      <th>N_ROOM</th>\n",
       "      <th>QS_ROOMS</th>\n",
       "      <th>QS_BATHROOM</th>\n",
       "      <th>QS_BEDROOM</th>\n",
       "      <th>QS_OVERALL</th>\n",
       "      <th>REG_FEE</th>\n",
       "      <th>COMMIS</th>\n",
       "      <th>SALES_PRICE</th>\n",
       "    </tr>\n",
       "  </thead>\n",
       "  <tbody>\n",
       "    <tr>\n",
       "      <th>count</th>\n",
       "      <td>7109.000000</td>\n",
       "      <td>7109.000000</td>\n",
       "      <td>7108.000000</td>\n",
       "      <td>7104.000000</td>\n",
       "      <td>7109.000000</td>\n",
       "      <td>7109.000000</td>\n",
       "      <td>7109.000000</td>\n",
       "      <td>7109.000000</td>\n",
       "      <td>7061.000000</td>\n",
       "      <td>7109.000000</td>\n",
       "      <td>7109.000000</td>\n",
       "      <td>7.109000e+03</td>\n",
       "    </tr>\n",
       "    <tr>\n",
       "      <th>mean</th>\n",
       "      <td>1382.073006</td>\n",
       "      <td>99.603179</td>\n",
       "      <td>1.637029</td>\n",
       "      <td>1.213260</td>\n",
       "      <td>3.688704</td>\n",
       "      <td>3.517471</td>\n",
       "      <td>3.507244</td>\n",
       "      <td>3.485300</td>\n",
       "      <td>3.503254</td>\n",
       "      <td>376938.330708</td>\n",
       "      <td>141005.726544</td>\n",
       "      <td>1.089491e+07</td>\n",
       "    </tr>\n",
       "    <tr>\n",
       "      <th>std</th>\n",
       "      <td>457.410902</td>\n",
       "      <td>57.403110</td>\n",
       "      <td>0.802902</td>\n",
       "      <td>0.409639</td>\n",
       "      <td>1.019099</td>\n",
       "      <td>0.891972</td>\n",
       "      <td>0.897834</td>\n",
       "      <td>0.887266</td>\n",
       "      <td>0.527223</td>\n",
       "      <td>143070.662010</td>\n",
       "      <td>78768.093718</td>\n",
       "      <td>3.768603e+06</td>\n",
       "    </tr>\n",
       "    <tr>\n",
       "      <th>min</th>\n",
       "      <td>500.000000</td>\n",
       "      <td>0.000000</td>\n",
       "      <td>1.000000</td>\n",
       "      <td>1.000000</td>\n",
       "      <td>2.000000</td>\n",
       "      <td>2.000000</td>\n",
       "      <td>2.000000</td>\n",
       "      <td>2.000000</td>\n",
       "      <td>2.000000</td>\n",
       "      <td>71177.000000</td>\n",
       "      <td>5055.000000</td>\n",
       "      <td>2.156875e+06</td>\n",
       "    </tr>\n",
       "    <tr>\n",
       "      <th>25%</th>\n",
       "      <td>993.000000</td>\n",
       "      <td>50.000000</td>\n",
       "      <td>1.000000</td>\n",
       "      <td>1.000000</td>\n",
       "      <td>3.000000</td>\n",
       "      <td>2.700000</td>\n",
       "      <td>2.700000</td>\n",
       "      <td>2.700000</td>\n",
       "      <td>3.130000</td>\n",
       "      <td>272406.000000</td>\n",
       "      <td>84219.000000</td>\n",
       "      <td>8.272100e+06</td>\n",
       "    </tr>\n",
       "    <tr>\n",
       "      <th>50%</th>\n",
       "      <td>1373.000000</td>\n",
       "      <td>99.000000</td>\n",
       "      <td>1.000000</td>\n",
       "      <td>1.000000</td>\n",
       "      <td>4.000000</td>\n",
       "      <td>3.500000</td>\n",
       "      <td>3.500000</td>\n",
       "      <td>3.500000</td>\n",
       "      <td>3.500000</td>\n",
       "      <td>349486.000000</td>\n",
       "      <td>127628.000000</td>\n",
       "      <td>1.033505e+07</td>\n",
       "    </tr>\n",
       "    <tr>\n",
       "      <th>75%</th>\n",
       "      <td>1744.000000</td>\n",
       "      <td>148.000000</td>\n",
       "      <td>2.000000</td>\n",
       "      <td>1.000000</td>\n",
       "      <td>4.000000</td>\n",
       "      <td>4.300000</td>\n",
       "      <td>4.300000</td>\n",
       "      <td>4.300000</td>\n",
       "      <td>3.890000</td>\n",
       "      <td>451562.000000</td>\n",
       "      <td>184506.000000</td>\n",
       "      <td>1.299390e+07</td>\n",
       "    </tr>\n",
       "    <tr>\n",
       "      <th>max</th>\n",
       "      <td>2500.000000</td>\n",
       "      <td>200.000000</td>\n",
       "      <td>4.000000</td>\n",
       "      <td>2.000000</td>\n",
       "      <td>6.000000</td>\n",
       "      <td>5.000000</td>\n",
       "      <td>5.000000</td>\n",
       "      <td>5.000000</td>\n",
       "      <td>4.970000</td>\n",
       "      <td>983922.000000</td>\n",
       "      <td>495405.000000</td>\n",
       "      <td>2.366734e+07</td>\n",
       "    </tr>\n",
       "  </tbody>\n",
       "</table>\n",
       "</div>"
      ],
      "text/plain": [
       "          INT_SQFT  DIST_MAINROAD    N_BEDROOM   N_BATHROOM       N_ROOM  \\\n",
       "count  7109.000000    7109.000000  7108.000000  7104.000000  7109.000000   \n",
       "mean   1382.073006      99.603179     1.637029     1.213260     3.688704   \n",
       "std     457.410902      57.403110     0.802902     0.409639     1.019099   \n",
       "min     500.000000       0.000000     1.000000     1.000000     2.000000   \n",
       "25%     993.000000      50.000000     1.000000     1.000000     3.000000   \n",
       "50%    1373.000000      99.000000     1.000000     1.000000     4.000000   \n",
       "75%    1744.000000     148.000000     2.000000     1.000000     4.000000   \n",
       "max    2500.000000     200.000000     4.000000     2.000000     6.000000   \n",
       "\n",
       "          QS_ROOMS  QS_BATHROOM   QS_BEDROOM   QS_OVERALL        REG_FEE  \\\n",
       "count  7109.000000  7109.000000  7109.000000  7061.000000    7109.000000   \n",
       "mean      3.517471     3.507244     3.485300     3.503254  376938.330708   \n",
       "std       0.891972     0.897834     0.887266     0.527223  143070.662010   \n",
       "min       2.000000     2.000000     2.000000     2.000000   71177.000000   \n",
       "25%       2.700000     2.700000     2.700000     3.130000  272406.000000   \n",
       "50%       3.500000     3.500000     3.500000     3.500000  349486.000000   \n",
       "75%       4.300000     4.300000     4.300000     3.890000  451562.000000   \n",
       "max       5.000000     5.000000     5.000000     4.970000  983922.000000   \n",
       "\n",
       "              COMMIS   SALES_PRICE  \n",
       "count    7109.000000  7.109000e+03  \n",
       "mean   141005.726544  1.089491e+07  \n",
       "std     78768.093718  3.768603e+06  \n",
       "min      5055.000000  2.156875e+06  \n",
       "25%     84219.000000  8.272100e+06  \n",
       "50%    127628.000000  1.033505e+07  \n",
       "75%    184506.000000  1.299390e+07  \n",
       "max    495405.000000  2.366734e+07  "
      ]
     },
     "execution_count": 7,
     "metadata": {},
     "output_type": "execute_result"
    }
   ],
   "source": [
    "# To have a more statistical idea about the df\n",
    "df.describe()"
   ]
  },
  {
   "cell_type": "code",
   "execution_count": 8,
   "metadata": {},
   "outputs": [
    {
     "data": {
      "text/plain": [
       "PRT_ID            0\n",
       "AREA              0\n",
       "INT_SQFT          0\n",
       "DATE_SALE         0\n",
       "DIST_MAINROAD     0\n",
       "N_BEDROOM         1\n",
       "N_BATHROOM        5\n",
       "N_ROOM            0\n",
       "SALE_COND         0\n",
       "PARK_FACIL        0\n",
       "DATE_BUILD        0\n",
       "BUILDTYPE         0\n",
       "UTILITY_AVAIL     0\n",
       "STREET            0\n",
       "MZZONE            0\n",
       "QS_ROOMS          0\n",
       "QS_BATHROOM       0\n",
       "QS_BEDROOM        0\n",
       "QS_OVERALL       48\n",
       "REG_FEE           0\n",
       "COMMIS            0\n",
       "SALES_PRICE       0\n",
       "dtype: int64"
      ]
     },
     "execution_count": 8,
     "metadata": {},
     "output_type": "execute_result"
    }
   ],
   "source": [
    "#To see the number of NaN values in df\n",
    "df.isnull().sum()"
   ]
  },
  {
   "cell_type": "markdown",
   "metadata": {},
   "source": [
    "Since the number of NaNs are small, removing it won't affect the prediction much.\n",
    "So, we will be removing the NaN values."
   ]
  },
  {
   "cell_type": "markdown",
   "metadata": {},
   "source": [
    "## Data Cleaning"
   ]
  },
  {
   "cell_type": "markdown",
   "metadata": {},
   "source": [
    "This involves removing typos,removing NaN values, changing formats and altering data types"
   ]
  },
  {
   "cell_type": "code",
   "execution_count": 9,
   "metadata": {},
   "outputs": [
    {
     "data": {
      "text/plain": [
       "PRT_ID            object\n",
       "AREA              object\n",
       "INT_SQFT           int64\n",
       "DATE_SALE         object\n",
       "DIST_MAINROAD      int64\n",
       "N_BEDROOM        float64\n",
       "N_BATHROOM       float64\n",
       "N_ROOM             int64\n",
       "SALE_COND         object\n",
       "PARK_FACIL        object\n",
       "DATE_BUILD        object\n",
       "BUILDTYPE         object\n",
       "UTILITY_AVAIL     object\n",
       "STREET            object\n",
       "MZZONE            object\n",
       "QS_ROOMS         float64\n",
       "QS_BATHROOM      float64\n",
       "QS_BEDROOM       float64\n",
       "QS_OVERALL       float64\n",
       "REG_FEE            int64\n",
       "COMMIS             int64\n",
       "SALES_PRICE        int64\n",
       "dtype: object"
      ]
     },
     "execution_count": 9,
     "metadata": {},
     "output_type": "execute_result"
    }
   ],
   "source": [
    "# Trying to see all data types\n",
    "df.dtypes"
   ]
  },
  {
   "cell_type": "code",
   "execution_count": 10,
   "metadata": {},
   "outputs": [],
   "source": [
    "# Correcting the FORMAT of some columns to more sensible ones\n",
    "\n",
    "df['DATE_BUILD'] = pd.to_datetime(df['DATE_BUILD'],format='%d-%m-%Y')\n",
    "df['DATE_SALE'] = pd.to_datetime(df['DATE_SALE'],format='%d-%m-%Y')"
   ]
  },
  {
   "cell_type": "code",
   "execution_count": 11,
   "metadata": {},
   "outputs": [],
   "source": [
    "# We will now drop Nan values\n",
    "\n",
    "df.dropna(inplace = True)"
   ]
  },
  {
   "cell_type": "code",
   "execution_count": 12,
   "metadata": {},
   "outputs": [
    {
     "name": "stdout",
     "output_type": "stream",
     "text": [
      "<class 'pandas.core.frame.DataFrame'>\n",
      "Int64Index: 7056 entries, 0 to 7108\n",
      "Data columns (total 22 columns):\n",
      " #   Column         Non-Null Count  Dtype         \n",
      "---  ------         --------------  -----         \n",
      " 0   PRT_ID         7056 non-null   object        \n",
      " 1   AREA           7056 non-null   object        \n",
      " 2   INT_SQFT       7056 non-null   int64         \n",
      " 3   DATE_SALE      7056 non-null   datetime64[ns]\n",
      " 4   DIST_MAINROAD  7056 non-null   int64         \n",
      " 5   N_BEDROOM      7056 non-null   float64       \n",
      " 6   N_BATHROOM     7056 non-null   float64       \n",
      " 7   N_ROOM         7056 non-null   int64         \n",
      " 8   SALE_COND      7056 non-null   object        \n",
      " 9   PARK_FACIL     7056 non-null   object        \n",
      " 10  DATE_BUILD     7056 non-null   datetime64[ns]\n",
      " 11  BUILDTYPE      7056 non-null   object        \n",
      " 12  UTILITY_AVAIL  7056 non-null   object        \n",
      " 13  STREET         7056 non-null   object        \n",
      " 14  MZZONE         7056 non-null   object        \n",
      " 15  QS_ROOMS       7056 non-null   float64       \n",
      " 16  QS_BATHROOM    7056 non-null   float64       \n",
      " 17  QS_BEDROOM     7056 non-null   float64       \n",
      " 18  QS_OVERALL     7056 non-null   float64       \n",
      " 19  REG_FEE        7056 non-null   int64         \n",
      " 20  COMMIS         7056 non-null   int64         \n",
      " 21  SALES_PRICE    7056 non-null   int64         \n",
      "dtypes: datetime64[ns](2), float64(6), int64(6), object(8)\n",
      "memory usage: 1.2+ MB\n"
     ]
    }
   ],
   "source": [
    "# As we can see data dropped successfully\n",
    "\n",
    "df.info()"
   ]
  },
  {
   "cell_type": "code",
   "execution_count": 13,
   "metadata": {},
   "outputs": [
    {
     "data": {
      "text/plain": [
       "PRT_ID           7056\n",
       "AREA               17\n",
       "INT_SQFT         1698\n",
       "DATE_SALE        2794\n",
       "DIST_MAINROAD     201\n",
       "N_BEDROOM           4\n",
       "N_BATHROOM          2\n",
       "N_ROOM              5\n",
       "SALE_COND           9\n",
       "PARK_FACIL          3\n",
       "DATE_BUILD       5773\n",
       "BUILDTYPE           5\n",
       "UTILITY_AVAIL       5\n",
       "STREET              5\n",
       "MZZONE              6\n",
       "QS_ROOMS           31\n",
       "QS_BATHROOM        31\n",
       "QS_BEDROOM         31\n",
       "QS_OVERALL        479\n",
       "REG_FEE          6986\n",
       "COMMIS           6960\n",
       "SALES_PRICE      7005\n",
       "dtype: int64"
      ]
     },
     "execution_count": 13,
     "metadata": {},
     "output_type": "execute_result"
    }
   ],
   "source": [
    "# To see all the unique values in each columns\n",
    "df.nunique()"
   ]
  },
  {
   "cell_type": "code",
   "execution_count": 14,
   "metadata": {},
   "outputs": [
    {
     "name": "stdout",
     "output_type": "stream",
     "text": [
      "PRT_ID\n",
      "['P03210' 'P09411' 'P01812' ... 'P09594' 'P06508' 'P09794']\n",
      "\n",
      "AREA\n",
      "['Karapakkam' 'Anna Nagar' 'Adyar' 'Velachery' 'Chrompet' 'KK Nagar'\n",
      " 'TNagar' 'T Nagar' 'Chrompt' 'Chrmpet' 'Karapakam' 'Ana Nagar' 'Chormpet'\n",
      " 'Adyr' 'Velchery' 'Ann Nagar' 'KKNagar']\n",
      "\n",
      "INT_SQFT\n",
      "[1004 1986  909 ...  688 2051  598]\n",
      "\n",
      "DATE_SALE\n",
      "['2011-05-04T00:00:00.000000000' '2006-12-19T00:00:00.000000000'\n",
      " '2012-02-04T00:00:00.000000000' ... '2014-03-28T00:00:00.000000000'\n",
      " '2006-08-25T00:00:00.000000000' '2005-07-13T00:00:00.000000000']\n",
      "\n",
      "DIST_MAINROAD\n",
      "[131  26  70  14  84  36 137 176 175  74  78 143  83 157 134  69 168  53\n",
      "  96 114 100 111 105  29  59 185 138 173  15 117  16 130  46 180  52  86\n",
      "  49 113  28  51  19 167 126  75 154  25 187 200  32  11  23  13  58  89\n",
      "  48 177 116  41 192  72 148  24  43  85 171  73  62 145 125 121 129   6\n",
      " 103   8  50  67   0 147  71  34 178 106 144 135  38  40 142  79  20  99\n",
      " 166  63  44  60  90 169 122 108  98  57 104   1 109 164 136  97  37   9\n",
      " 181  93  81 193  95 196  39 141 158 174  94 124  82  76 190 194  54  64\n",
      "  65 115  17 102  77 182 163  88  66 119  18 188 112 159   4 123  31   2\n",
      " 120 184 170 110   7 152  27 198 183  12  45 161  30 118  33  61 156 191\n",
      " 160 149 140  47 153 146 128  80  55 151   3  92  22  35 101 127 199 132\n",
      "  21 107  56  10 197 186 165  87 133 195  91  68   5  42 162 155 172 189\n",
      " 139 179 150]\n",
      "\n",
      "N_BEDROOM\n",
      "[1. 2. 3. 4.]\n",
      "\n",
      "N_BATHROOM\n",
      "[1. 2.]\n",
      "\n",
      "N_ROOM\n",
      "[3 5 4 2 6]\n",
      "\n",
      "SALE_COND\n",
      "['AbNormal' 'Family' 'Partial' 'AdjLand' 'Normal Sale' 'Ab Normal'\n",
      " 'Partiall' 'Adj Land' 'PartiaLl']\n",
      "\n",
      "PARK_FACIL\n",
      "['Yes' 'No' 'Noo']\n",
      "\n",
      "DATE_BUILD\n",
      "['1967-05-15T00:00:00.000000000' '1995-12-22T00:00:00.000000000'\n",
      " '1992-02-09T00:00:00.000000000' ... '1978-09-01T00:00:00.000000000'\n",
      " '1977-08-11T00:00:00.000000000' '1961-07-24T00:00:00.000000000']\n",
      "\n",
      "BUILDTYPE\n",
      "['Commercial' 'Others' 'Other' 'House' 'Comercial']\n",
      "\n",
      "UTILITY_AVAIL\n",
      "['AllPub' 'ELO' 'NoSewr ' 'NoSeWa' 'All Pub']\n",
      "\n",
      "STREET\n",
      "['Paved' 'Gravel' 'No Access' 'Pavd' 'NoAccess']\n",
      "\n",
      "MZZONE\n",
      "['A' 'RH' 'RL' 'I' 'C' 'RM']\n",
      "\n",
      "QS_ROOMS\n",
      "[4.  4.9 4.1 4.7 3.  4.5 3.6 2.4 2.9 3.1 2.2 2.1 4.8 2.3 3.5 4.6 2.8 4.2\n",
      " 3.4 2.7 2.  4.3 3.8 3.9 2.6 3.3 2.5 3.7 3.2 4.4 5. ]\n",
      "\n",
      "QS_BATHROOM\n",
      "[3.9 4.2 3.8 2.5 2.6 2.1 4.5 3.7 3.1 3.2 3.4 2.2 4.6 4.9 2.7 4.4 5.  2.8\n",
      " 3.  2.9 3.6 4.  4.3 2.  3.3 4.7 2.3 4.1 4.8 3.5 2.4]\n",
      "\n",
      "QS_BEDROOM\n",
      "[4.9 2.5 2.2 3.6 4.1 3.1 2.1 4.  3.3 4.5 3.7 4.8 4.7 2.9 3.4 2.8 3.8 3.\n",
      " 3.2 2.  4.3 3.9 3.5 2.6 4.4 2.4 4.6 5.  2.3 2.7 4.2]\n",
      "\n",
      "QS_OVERALL\n",
      "[4.33  3.765 3.09  4.01  3.29  3.32  2.67  3.26  3.55  3.16  3.83  2.89\n",
      " 2.26  3.19  3.66  3.57  4.3   3.35  4.76  3.39  3.43  3.73  3.59  3.74\n",
      " 2.29  3.17  4.18  2.755 2.11  2.605 4.58  4.2   3.27  4.19  2.98  3.12\n",
      " 3.08  3.85  3.42  3.2   4.    3.34  2.825 3.46  4.07  3.68  2.95  3.505\n",
      " 2.97  3.63  3.76  3.77  2.78  3.985 3.04  2.88  4.21  2.42  3.8   2.54\n",
      " 3.84  2.395 3.14  2.49  3.175 2.84  4.17  3.13  3.98  3.36  3.735 2.62\n",
      " 4.61  2.6   4.09  3.18  3.425 3.71  3.21  3.61  2.9   3.94  4.145 4.26\n",
      " 4.16  3.5   3.22  3.99  4.12  2.475 2.28  2.725 4.03  3.07  2.81  3.45\n",
      " 3.9   3.87  3.1   2.93  3.05  3.54  2.63  3.11  3.89  3.33  3.96  3.56\n",
      " 4.39  3.58  3.47  3.88  4.04  3.6   4.53  3.72  2.96  3.4   3.51  4.215\n",
      " 3.055 3.06  3.53  3.435 3.41  3.86  3.62  4.5   4.42  4.14  3.01  4.24\n",
      " 2.53  3.535 2.665 3.49  3.52  3.25  4.465 4.66  3.7   2.495 4.13  4.37\n",
      " 2.66  2.3   2.85  3.31  3.03  3.97  2.75  3.355 3.75  2.775 4.68  3.15\n",
      " 3.91  2.94  3.24  4.475 3.67  3.38  4.38  4.59  3.295 3.82  4.64  4.1\n",
      " 2.55  3.37  3.48  2.73  3.945 3.285 3.93  4.27  4.28  2.34  3.815 2.79\n",
      " 4.035 3.44  4.325 3.95  2.785 3.02  3.64  4.22  2.82  3.755 3.78  3.81\n",
      " 3.92  4.375 3.3   3.035 3.575 2.83  2.92  4.08  4.43  2.58  3.28  3.705\n",
      " 3.935 3.23  4.06  4.46  4.6   2.8   2.61  2.69  2.35  2.87  3.79  3.485\n",
      " 2.91  2.99  3.825 4.445 2.985 2.37  3.745 2.995 3.65  2.33  2.895 3.69\n",
      " 2.52  2.51  4.02  4.54  3.255 2.595 3.615 4.34  4.05  4.35  4.41  2.71\n",
      " 3.475 4.015 4.31  2.955 2.72  4.48  3.605 3.415 4.32  2.965 3.655 4.7\n",
      " 2.57  4.15  3.885 2.7   2.36  2.68  2.74  3.315 4.005 2.65  4.71  4.25\n",
      " 3.    3.585 3.075 3.105 2.255 3.185 4.44  2.47  4.47  3.135 4.9   4.52\n",
      " 4.57  3.595 3.495 4.56  2.4   4.11  3.165 3.395 4.29  3.275 2.39  3.875\n",
      " 3.555 3.855 2.44  2.64  3.095 3.915 2.5   2.345 2.615 2.76  4.125 3.025\n",
      " 3.205 3.465 3.895 2.48  4.49  2.77  2.24  2.86  3.235 2.46  2.59  3.445\n",
      " 2.45  2.25  4.435 3.715 2.735 4.4   4.63  3.835 3.305 2.375 4.69  4.155\n",
      " 3.455 4.23  2.655 3.685 3.625 4.025 2.885 4.36  2.945 2.855 4.115 2.09\n",
      " 3.795 3.045 3.645 2.975 3.775 2.21  4.85  2.795 4.135 4.78  2.635 4.095\n",
      " 2.625 3.725 2.835 4.79  3.115 4.87  2.245 4.865 4.495 3.375 2.43  4.395\n",
      " 3.545 4.585 4.705 4.83  4.195 3.365 2.06  3.995 3.965 3.635 3.695 4.405\n",
      " 3.785 3.515 3.385 4.515 4.95  4.255 4.72  4.65  4.045 2.32  4.73  4.075\n",
      " 3.145 2.715 3.565 4.655 2.525 2.565 2.31  4.165 2.925 2.41  4.085 3.525\n",
      " 3.015 2.22  4.275 3.905 2.515 3.955 3.845 4.345 2.585 4.75  3.335 2.18\n",
      " 2.23  4.67  2.455 4.455 2.805 3.345 4.62  4.105 3.405 4.615 4.185 2.815\n",
      " 4.45  4.97  4.415 4.055 2.645 2.685 4.315 2.845 4.82  4.225 3.155 4.205\n",
      " 4.51  2.865 2.765 4.605 3.065 2.545 3.265 4.425 2.56  2.745 4.065 4.295\n",
      " 2.    4.55  3.975 3.675 2.915 2.2   3.005 2.385 2.38  3.665 2.535 3.325\n",
      " 3.925 3.125 4.335 4.385 2.27  4.93  3.805 4.77  2.195 4.175 2.675 4.695\n",
      " 2.445 4.265 4.765 2.335 2.465 4.81  2.905 3.195 3.245 4.675 4.94 ]\n",
      "\n",
      "REG_FEE\n",
      "[380000 760122 421094 ... 317354 425350 349177]\n",
      "\n",
      "COMMIS\n",
      "[144400 304049  92114 ... 167028 119098  79812]\n",
      "\n",
      "SALES_PRICE\n",
      "[ 7600000 21717770 13159200 ...  8351410  8507000  9976480]\n",
      "\n"
     ]
    }
   ],
   "source": [
    "# Actually seeing all the unique values\n",
    "\n",
    "for col in df:\n",
    "    print(col)\n",
    "    print(df[col].unique())\n",
    "    print()\n",
    "    \n",
    "# Now we will see interesting data in these\n",
    "# Look for typos and stuff"
   ]
  },
  {
   "cell_type": "code",
   "execution_count": 15,
   "metadata": {},
   "outputs": [
    {
     "name": "stdout",
     "output_type": "stream",
     "text": [
      "MZZONE\n",
      "['A' 'RH' 'RL' 'I' 'C' 'RM']\n",
      "STREET\n",
      "['Paved' 'Gravel' 'No Access' 'Pavd' 'NoAccess']\n",
      "UTILITY_AVAIL\n",
      "['AllPub' 'ELO' 'NoSewr ' 'NoSeWa' 'All Pub']\n",
      "BUILDTYPE\n",
      "['Commercial' 'Others' 'Other' 'House' 'Comercial']\n",
      "PARK_FACIL\n",
      "['Yes' 'No' 'Noo']\n",
      "SALE_COND\n",
      "['AbNormal' 'Family' 'Partial' 'AdjLand' 'Normal Sale' 'Ab Normal'\n",
      " 'Partiall' 'Adj Land' 'PartiaLl']\n",
      "AREA\n",
      "['Karapakkam' 'Anna Nagar' 'Adyar' 'Velachery' 'Chrompet' 'KK Nagar'\n",
      " 'TNagar' 'T Nagar' 'Chrompt' 'Chrmpet' 'Karapakam' 'Ana Nagar' 'Chormpet'\n",
      " 'Adyr' 'Velchery' 'Ann Nagar' 'KKNagar']\n"
     ]
    }
   ],
   "source": [
    "# Printing unique values of interesting columns\n",
    "\n",
    "interesting_columns = ['MZZONE','STREET','UTILITY_AVAIL','BUILDTYPE','PARK_FACIL','SALE_COND','AREA']\n",
    "for i in interesting_columns:\n",
    "    print(i)\n",
    "    print(df[i].unique())\n",
    "    # print()"
   ]
  },
  {
   "cell_type": "code",
   "execution_count": 16,
   "metadata": {},
   "outputs": [],
   "source": [
    "# Removing typos\n",
    "\n",
    "df['AREA'].replace(['Ana Nagar','Ann Nagar'], 'Anna Nagar',inplace = True)\n",
    "df['AREA'].replace(['KKNagar'], 'KK Nagar',inplace = True)\n",
    "df['AREA'].replace(['TNagar'], 'T Nagar',inplace = True)\n",
    "df['AREA'].replace(['Karapakam'], 'Karapakkam',inplace = True)\n",
    "df['AREA'].replace(['Adyr'], 'Adyar',inplace = True)\n",
    "df['AREA'].replace(['Chrompt','Chrmpet','Chormpet'], 'Chrompet',inplace = True)\n",
    "\n",
    "df[\"STREET\"].replace(['Pavd'],\"Paved\",inplace = True)\n",
    "df[\"STREET\"].replace(['NoAccess'],\"No Access\",inplace = True)\n",
    "\n",
    "df[\"UTILITY_AVAIL\"].replace(['AllPub'],\"All Pub\",inplace = True)\n",
    "df[\"UTILITY_AVAIL\"].replace(['NoSewa','NoSewr ','NoSeWa'],\"No Sewer\",inplace = True)\n",
    "\n",
    "df[\"BUILDTYPE\"].replace(['Comercial'],\"Commercial\",inplace = True)\n",
    "df[\"BUILDTYPE\"].replace(['Others'],\"Other\",inplace = True)\n",
    "\n",
    "df[\"PARK_FACIL\"].replace(['Noo'],\"No\",inplace = True)\n",
    "\n",
    "df[\"SALE_COND\"].replace(['Ab Normal'],\"AbNormal\",inplace = True)\n",
    "df[\"SALE_COND\"].replace(['Adj Land'],\"AdjLand\",inplace = True)\n",
    "df[\"SALE_COND\"].replace(['Partiall',\"PartiaLl\"],\"Partial\",inplace = True)\n"
   ]
  },
  {
   "cell_type": "code",
   "execution_count": 17,
   "metadata": {},
   "outputs": [],
   "source": [
    "# Converting the datatypes into more sensible ones\n",
    "\n",
    "df.N_BEDROOM = df.N_BEDROOM.astype(int)\n",
    "df.N_BATHROOM = df.N_BATHROOM.astype(int)"
   ]
  },
  {
   "cell_type": "code",
   "execution_count": 18,
   "metadata": {},
   "outputs": [
    {
     "name": "stdout",
     "output_type": "stream",
     "text": [
      "PRT_ID\n",
      "['P03210' 'P09411' 'P01812' ... 'P09594' 'P06508' 'P09794']\n",
      "\n",
      "AREA\n",
      "['Karapakkam' 'Anna Nagar' 'Adyar' 'Velachery' 'Chrompet' 'KK Nagar'\n",
      " 'T Nagar' 'Velchery']\n",
      "\n",
      "INT_SQFT\n",
      "[1004 1986  909 ...  688 2051  598]\n",
      "\n",
      "DATE_SALE\n",
      "['2011-05-04T00:00:00.000000000' '2006-12-19T00:00:00.000000000'\n",
      " '2012-02-04T00:00:00.000000000' ... '2014-03-28T00:00:00.000000000'\n",
      " '2006-08-25T00:00:00.000000000' '2005-07-13T00:00:00.000000000']\n",
      "\n",
      "DIST_MAINROAD\n",
      "[131  26  70  14  84  36 137 176 175  74  78 143  83 157 134  69 168  53\n",
      "  96 114 100 111 105  29  59 185 138 173  15 117  16 130  46 180  52  86\n",
      "  49 113  28  51  19 167 126  75 154  25 187 200  32  11  23  13  58  89\n",
      "  48 177 116  41 192  72 148  24  43  85 171  73  62 145 125 121 129   6\n",
      " 103   8  50  67   0 147  71  34 178 106 144 135  38  40 142  79  20  99\n",
      " 166  63  44  60  90 169 122 108  98  57 104   1 109 164 136  97  37   9\n",
      " 181  93  81 193  95 196  39 141 158 174  94 124  82  76 190 194  54  64\n",
      "  65 115  17 102  77 182 163  88  66 119  18 188 112 159   4 123  31   2\n",
      " 120 184 170 110   7 152  27 198 183  12  45 161  30 118  33  61 156 191\n",
      " 160 149 140  47 153 146 128  80  55 151   3  92  22  35 101 127 199 132\n",
      "  21 107  56  10 197 186 165  87 133 195  91  68   5  42 162 155 172 189\n",
      " 139 179 150]\n",
      "\n",
      "N_BEDROOM\n",
      "[1 2 3 4]\n",
      "\n",
      "N_BATHROOM\n",
      "[1 2]\n",
      "\n",
      "N_ROOM\n",
      "[3 5 4 2 6]\n",
      "\n",
      "SALE_COND\n",
      "['AbNormal' 'Family' 'Partial' 'AdjLand' 'Normal Sale']\n",
      "\n",
      "PARK_FACIL\n",
      "['Yes' 'No']\n",
      "\n",
      "DATE_BUILD\n",
      "['1967-05-15T00:00:00.000000000' '1995-12-22T00:00:00.000000000'\n",
      " '1992-02-09T00:00:00.000000000' ... '1978-09-01T00:00:00.000000000'\n",
      " '1977-08-11T00:00:00.000000000' '1961-07-24T00:00:00.000000000']\n",
      "\n",
      "BUILDTYPE\n",
      "['Commercial' 'Other' 'House']\n",
      "\n",
      "UTILITY_AVAIL\n",
      "['All Pub' 'ELO' 'No Sewer']\n",
      "\n",
      "STREET\n",
      "['Paved' 'Gravel' 'No Access']\n",
      "\n",
      "MZZONE\n",
      "['A' 'RH' 'RL' 'I' 'C' 'RM']\n",
      "\n",
      "QS_ROOMS\n",
      "[4.  4.9 4.1 4.7 3.  4.5 3.6 2.4 2.9 3.1 2.2 2.1 4.8 2.3 3.5 4.6 2.8 4.2\n",
      " 3.4 2.7 2.  4.3 3.8 3.9 2.6 3.3 2.5 3.7 3.2 4.4 5. ]\n",
      "\n",
      "QS_BATHROOM\n",
      "[3.9 4.2 3.8 2.5 2.6 2.1 4.5 3.7 3.1 3.2 3.4 2.2 4.6 4.9 2.7 4.4 5.  2.8\n",
      " 3.  2.9 3.6 4.  4.3 2.  3.3 4.7 2.3 4.1 4.8 3.5 2.4]\n",
      "\n",
      "QS_BEDROOM\n",
      "[4.9 2.5 2.2 3.6 4.1 3.1 2.1 4.  3.3 4.5 3.7 4.8 4.7 2.9 3.4 2.8 3.8 3.\n",
      " 3.2 2.  4.3 3.9 3.5 2.6 4.4 2.4 4.6 5.  2.3 2.7 4.2]\n",
      "\n",
      "QS_OVERALL\n",
      "[4.33  3.765 3.09  4.01  3.29  3.32  2.67  3.26  3.55  3.16  3.83  2.89\n",
      " 2.26  3.19  3.66  3.57  4.3   3.35  4.76  3.39  3.43  3.73  3.59  3.74\n",
      " 2.29  3.17  4.18  2.755 2.11  2.605 4.58  4.2   3.27  4.19  2.98  3.12\n",
      " 3.08  3.85  3.42  3.2   4.    3.34  2.825 3.46  4.07  3.68  2.95  3.505\n",
      " 2.97  3.63  3.76  3.77  2.78  3.985 3.04  2.88  4.21  2.42  3.8   2.54\n",
      " 3.84  2.395 3.14  2.49  3.175 2.84  4.17  3.13  3.98  3.36  3.735 2.62\n",
      " 4.61  2.6   4.09  3.18  3.425 3.71  3.21  3.61  2.9   3.94  4.145 4.26\n",
      " 4.16  3.5   3.22  3.99  4.12  2.475 2.28  2.725 4.03  3.07  2.81  3.45\n",
      " 3.9   3.87  3.1   2.93  3.05  3.54  2.63  3.11  3.89  3.33  3.96  3.56\n",
      " 4.39  3.58  3.47  3.88  4.04  3.6   4.53  3.72  2.96  3.4   3.51  4.215\n",
      " 3.055 3.06  3.53  3.435 3.41  3.86  3.62  4.5   4.42  4.14  3.01  4.24\n",
      " 2.53  3.535 2.665 3.49  3.52  3.25  4.465 4.66  3.7   2.495 4.13  4.37\n",
      " 2.66  2.3   2.85  3.31  3.03  3.97  2.75  3.355 3.75  2.775 4.68  3.15\n",
      " 3.91  2.94  3.24  4.475 3.67  3.38  4.38  4.59  3.295 3.82  4.64  4.1\n",
      " 2.55  3.37  3.48  2.73  3.945 3.285 3.93  4.27  4.28  2.34  3.815 2.79\n",
      " 4.035 3.44  4.325 3.95  2.785 3.02  3.64  4.22  2.82  3.755 3.78  3.81\n",
      " 3.92  4.375 3.3   3.035 3.575 2.83  2.92  4.08  4.43  2.58  3.28  3.705\n",
      " 3.935 3.23  4.06  4.46  4.6   2.8   2.61  2.69  2.35  2.87  3.79  3.485\n",
      " 2.91  2.99  3.825 4.445 2.985 2.37  3.745 2.995 3.65  2.33  2.895 3.69\n",
      " 2.52  2.51  4.02  4.54  3.255 2.595 3.615 4.34  4.05  4.35  4.41  2.71\n",
      " 3.475 4.015 4.31  2.955 2.72  4.48  3.605 3.415 4.32  2.965 3.655 4.7\n",
      " 2.57  4.15  3.885 2.7   2.36  2.68  2.74  3.315 4.005 2.65  4.71  4.25\n",
      " 3.    3.585 3.075 3.105 2.255 3.185 4.44  2.47  4.47  3.135 4.9   4.52\n",
      " 4.57  3.595 3.495 4.56  2.4   4.11  3.165 3.395 4.29  3.275 2.39  3.875\n",
      " 3.555 3.855 2.44  2.64  3.095 3.915 2.5   2.345 2.615 2.76  4.125 3.025\n",
      " 3.205 3.465 3.895 2.48  4.49  2.77  2.24  2.86  3.235 2.46  2.59  3.445\n",
      " 2.45  2.25  4.435 3.715 2.735 4.4   4.63  3.835 3.305 2.375 4.69  4.155\n",
      " 3.455 4.23  2.655 3.685 3.625 4.025 2.885 4.36  2.945 2.855 4.115 2.09\n",
      " 3.795 3.045 3.645 2.975 3.775 2.21  4.85  2.795 4.135 4.78  2.635 4.095\n",
      " 2.625 3.725 2.835 4.79  3.115 4.87  2.245 4.865 4.495 3.375 2.43  4.395\n",
      " 3.545 4.585 4.705 4.83  4.195 3.365 2.06  3.995 3.965 3.635 3.695 4.405\n",
      " 3.785 3.515 3.385 4.515 4.95  4.255 4.72  4.65  4.045 2.32  4.73  4.075\n",
      " 3.145 2.715 3.565 4.655 2.525 2.565 2.31  4.165 2.925 2.41  4.085 3.525\n",
      " 3.015 2.22  4.275 3.905 2.515 3.955 3.845 4.345 2.585 4.75  3.335 2.18\n",
      " 2.23  4.67  2.455 4.455 2.805 3.345 4.62  4.105 3.405 4.615 4.185 2.815\n",
      " 4.45  4.97  4.415 4.055 2.645 2.685 4.315 2.845 4.82  4.225 3.155 4.205\n",
      " 4.51  2.865 2.765 4.605 3.065 2.545 3.265 4.425 2.56  2.745 4.065 4.295\n",
      " 2.    4.55  3.975 3.675 2.915 2.2   3.005 2.385 2.38  3.665 2.535 3.325\n",
      " 3.925 3.125 4.335 4.385 2.27  4.93  3.805 4.77  2.195 4.175 2.675 4.695\n",
      " 2.445 4.265 4.765 2.335 2.465 4.81  2.905 3.195 3.245 4.675 4.94 ]\n",
      "\n",
      "REG_FEE\n",
      "[380000 760122 421094 ... 317354 425350 349177]\n",
      "\n",
      "COMMIS\n",
      "[144400 304049  92114 ... 167028 119098  79812]\n",
      "\n",
      "SALES_PRICE\n",
      "[ 7600000 21717770 13159200 ...  8351410  8507000  9976480]\n",
      "\n"
     ]
    }
   ],
   "source": [
    "# to make sure that all typos have been corrected\n",
    "\n",
    "for col in df:\n",
    "    print(col)\n",
    "    print(df[col].unique())\n",
    "    print()"
   ]
  },
  {
   "cell_type": "markdown",
   "metadata": {},
   "source": [
    "## Feature Engineering"
   ]
  },
  {
   "cell_type": "markdown",
   "metadata": {},
   "source": [
    "Let's design two new features AGE_BUILT and AGE_SALE."
   ]
  },
  {
   "cell_type": "code",
   "execution_count": 19,
   "metadata": {},
   "outputs": [],
   "source": [
    "# AGE_BUILD\n",
    "\n",
    "TODAY = datetime.strptime('30-09-2022','%d-%m-%Y')\n",
    "x=TODAY - df.DATE_BUILD\n",
    "\n",
    "l=[]\n",
    "for i in range(0,len(x)):\n",
    "    k =str(x.iloc[i]).split()\n",
    "    x.iloc[i] = (int(k[0])/365)\n",
    "df['AGE_BUILD'] =x\n",
    "df.AGE_BUILD = df.AGE_BUILD.astype(float)"
   ]
  },
  {
   "cell_type": "code",
   "execution_count": 20,
   "metadata": {},
   "outputs": [],
   "source": [
    "# AGE_SALE\n",
    "\n",
    "TODAY = datetime.strptime('30-09-2022','%d-%m-%Y')\n",
    "y=TODAY - df.DATE_SALE\n",
    "l=[]\n",
    "for i in range(0,len(y)):\n",
    "    k =str(y.iloc[i]).split()\n",
    "    y.iloc[i] = (int(k[0])/365)\n",
    "df['AGE_SALE'] = y\n",
    "df.AGE_SALE = df.AGE_SALE.astype(float)"
   ]
  },
  {
   "cell_type": "markdown",
   "metadata": {},
   "source": [
    "Thus we've created two extra features which may have a high role in predicting price"
   ]
  },
  {
   "cell_type": "markdown",
   "metadata": {},
   "source": [
    "## Data Visualization"
   ]
  },
  {
   "cell_type": "markdown",
   "metadata": {},
   "source": [
    "To see the relationship between columns and to know which columns are valuable in output prediction"
   ]
  },
  {
   "cell_type": "markdown",
   "metadata": {},
   "source": [
    "### Plotting heatmap"
   ]
  },
  {
   "cell_type": "code",
   "execution_count": 21,
   "metadata": {},
   "outputs": [
    {
     "data": {
      "image/png": "[encoded data removed]",
      "text/plain": [
       "<Figure size 1080x720 with 2 Axes>"
      ]
     },
     "metadata": {
      "needs_background": "light"
     },
     "output_type": "display_data"
    }
   ],
   "source": [
    "plt.figure(figsize=(15,10))\n",
    "sns.heatmap(df.corr(),annot=True,linewidth=.2)\n",
    "plt.show()"
   ]
  },
  {
   "cell_type": "markdown",
   "metadata": {},
   "source": [
    "From the heatmap, we can know how much one column depend on the other.\n",
    "This is way better than randomly expecting a factor to play a role in the value of the prediction.\n",
    "\n",
    "In this heatmap, the prediction we want to make is about the sales price.\n",
    "We can clearly see that the major columns affecting sales price appear to be:\n",
    "\n",
    "        INT_SQFT\n",
    "        N_ROOM\n",
    "        REG_FEES\n",
    "        COMMIS\n",
    "        N_BEDROOM\n",
    "        N_BATHROOM\n",
    "\n",
    "It has weak co-relation with\n",
    "\n",
    "        DIST_MAINROAD\n",
    "        QS_ROOMS\n",
    "        QS_BEDROOM\n",
    "        QS_OVERALL\n",
    "        AGE_SALE      ## ENGINERED FEATURE\n",
    "\n",
    "It may also possess relationship with\n",
    "\n",
    "        AREA\n",
    "        AGE_SALE      ## Though their feature engineered pair doesn't seem useful \n",
    "        AGE_BUILD     ## Though their feature engineered pair doesn't seem useful \n",
    "        SALE_COND\n",
    "        PARK_FACILITY\n",
    "        BUILD_TYPE\n",
    "        UTILITY_AVAIL\n",
    "        STREET\n",
    "        MZZONE\n",
    "\n",
    "These were not plotted on the heatmap, as they were not numbers.\n"
   ]
  },
  {
   "cell_type": "markdown",
   "metadata": {},
   "source": [
    "So, the heatmap has given us a lot of intuition about the model.\n",
    "Now let's go and plot the relation of each of these features with SALES_PRICE."
   ]
  },
  {
   "cell_type": "markdown",
   "metadata": {},
   "source": [
    "Now I am supposed to visualize each and every feature and decide how to use them. \n",
    "I can do that, but I dont know how to apply them to the ML model.\n",
    "So I am skipping that part.\n",
    "Let's move to the random forest model creation."
   ]
  },
  {
   "cell_type": "markdown",
   "metadata": {},
   "source": [
    "# Random Forest Model"
   ]
  },
  {
   "cell_type": "markdown",
   "metadata": {},
   "source": [
    "## Defining the features"
   ]
  },
  {
   "cell_type": "code",
   "execution_count": 22,
   "metadata": {},
   "outputs": [],
   "source": [
    "y=df['SALES_PRICE'].values\n",
    "X = df[[\"INT_SQFT\",\n",
    "        'N_ROOM',\n",
    "        'REG_FEE',\n",
    "        'COMMIS',\n",
    "        'N_BEDROOM',\n",
    "        \"N_BATHROOM\"]]\n",
    "\n",
    "# X = df.drop('SALES_PRICE',axis =1).values\n"
   ]
  },
  {
   "cell_type": "markdown",
   "metadata": {},
   "source": [
    "## Train Test split"
   ]
  },
  {
   "cell_type": "code",
   "execution_count": 23,
   "metadata": {},
   "outputs": [
    {
     "name": "stdout",
     "output_type": "stream",
     "text": [
      "7056\n",
      "7056\n"
     ]
    }
   ],
   "source": [
    "print(len(X))\n",
    "print(len(y))\n",
    "\n",
    "trainX,valX,trainy,valy = train_test_split(X,y,test_size = .3)"
   ]
  },
  {
   "cell_type": "markdown",
   "metadata": {},
   "source": [
    "## Making a prediction"
   ]
  },
  {
   "cell_type": "code",
   "execution_count": 24,
   "metadata": {},
   "outputs": [
    {
     "data": {
      "text/plain": [
       "array([10692181. ,  6493487.2, 10740820.5, ..., 12833766.1, 10961185.8,\n",
       "       10731310.2])"
      ]
     },
     "execution_count": 24,
     "metadata": {},
     "output_type": "execute_result"
    }
   ],
   "source": [
    "forest_model = RandomForestRegressor()\n",
    "forest_model.fit(trainX,trainy)\n",
    "prediction = forest_model.predict(valX)\n",
    "prediction"
   ]
  },
  {
   "cell_type": "code",
   "execution_count": 25,
   "metadata": {},
   "outputs": [
    {
     "name": "stdout",
     "output_type": "stream",
     "text": [
      "MEAN ABSOLUTE ERROR :( = 1032618.5454416627\n"
     ]
    }
   ],
   "source": [
    "print(\"MEAN ABSOLUTE ERROR :( =\", mean_absolute_error(valy, prediction))"
   ]
  }
 ],
 "metadata": {
  "kernelspec": {
   "display_name": "Python 3.9.7 ('base')",
   "language": "python",
   "name": "python3"
  },
  "language_info": {
   "codemirror_mode": {
    "name": "ipython",
    "version": 3
   },
   "file_extension": ".py",
   "mimetype": "text/x-python",
   "name": "python",
   "nbconvert_exporter": "python",
   "pygments_lexer": "ipython3",
   "version": "3.9.7"
  },
  "orig_nbformat": 4,
  "vscode": {
   "interpreter": {
    "hash": "950b5653ccfc34417735dd321d006fd482b31f7611416c3d8236dc5b17587d3f"
   }
  }
 },
 "nbformat": 4,
 "nbformat_minor": 2
}

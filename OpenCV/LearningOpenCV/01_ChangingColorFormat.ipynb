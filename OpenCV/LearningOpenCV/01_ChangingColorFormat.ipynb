{
 "cells": [
  {
   "attachments": {},
   "cell_type": "markdown",
   "metadata": {},
   "source": [
    "OpenCV works in BGR format"
   ]
  },
  {
   "cell_type": "code",
   "execution_count": 1,
   "metadata": {},
   "outputs": [],
   "source": [
    "import cv2\n",
    "import numpy as np\n",
    "import matplotlib.pyplot as plt"
   ]
  },
  {
   "cell_type": "code",
   "execution_count": 2,
   "metadata": {},
   "outputs": [],
   "source": [
    "path = 'Peacock.jpg' # Path to image\n",
    "image = cv2.imread(path)"
   ]
  },
  {
   "attachments": {},
   "cell_type": "markdown",
   "metadata": {},
   "source": [
    "# Change color format"
   ]
  },
  {
   "attachments": {},
   "cell_type": "markdown",
   "metadata": {},
   "source": [
    "Gray scale"
   ]
  },
  {
   "cell_type": "code",
   "execution_count": 3,
   "metadata": {},
   "outputs": [
    {
     "ename": "error",
     "evalue": "OpenCV(4.8.0) /io/opencv/modules/highgui/src/window.cpp:1272: error: (-2:Unspecified error) The function is not implemented. Rebuild the library with Windows, GTK+ 2.x or Cocoa support. If you are on Ubuntu or Debian, install libgtk2.0-dev and pkg-config, then re-run cmake or configure script in function 'cvShowImage'\n",
     "output_type": "error",
     "traceback": [
      "\u001b[0;31m---------------------------------------------------------------------------\u001b[0m",
      "\u001b[0;31merror\u001b[0m                                     Traceback (most recent call last)",
      "\u001b[1;32m/home/arjun/Documents/GitHub/Learning-Things/OpenCV/LearningOpenCV/01_ChangingColorFormat.ipynb Cell 6\u001b[0m line \u001b[0;36m4\n\u001b[1;32m      <a href='vscode-notebook-cell:/home/arjun/Documents/GitHub/Learning-Things/OpenCV/LearningOpenCV/01_ChangingColorFormat.ipynb#W5sZmlsZQ%3D%3D?line=0'>1</a>\u001b[0m image2 \u001b[39m=\u001b[39m cv2\u001b[39m.\u001b[39mcvtColor(image, cv2\u001b[39m.\u001b[39mCOLOR_BGR2GRAY)       \u001b[39m# Grayscale\u001b[39;00m\n\u001b[1;32m      <a href='vscode-notebook-cell:/home/arjun/Documents/GitHub/Learning-Things/OpenCV/LearningOpenCV/01_ChangingColorFormat.ipynb#W5sZmlsZQ%3D%3D?line=2'>3</a>\u001b[0m \u001b[39mwhile\u001b[39;00m \u001b[39mTrue\u001b[39;00m:\n\u001b[0;32m----> <a href='vscode-notebook-cell:/home/arjun/Documents/GitHub/Learning-Things/OpenCV/LearningOpenCV/01_ChangingColorFormat.ipynb#W5sZmlsZQ%3D%3D?line=3'>4</a>\u001b[0m     cv2\u001b[39m.\u001b[39;49mimshow(\u001b[39m'\u001b[39;49m\u001b[39mGrey Scale\u001b[39;49m\u001b[39m'\u001b[39;49m,image2)\n\u001b[1;32m      <a href='vscode-notebook-cell:/home/arjun/Documents/GitHub/Learning-Things/OpenCV/LearningOpenCV/01_ChangingColorFormat.ipynb#W5sZmlsZQ%3D%3D?line=4'>5</a>\u001b[0m     \u001b[39mif\u001b[39;00m cv2\u001b[39m.\u001b[39mwaitKey(\u001b[39m0\u001b[39m) \u001b[39m==\u001b[39m \u001b[39mord\u001b[39m(\u001b[39m'\u001b[39m\u001b[39mq\u001b[39m\u001b[39m'\u001b[39m) \u001b[39mor\u001b[39;00m cv2\u001b[39m.\u001b[39mwaitKey(\u001b[39m0\u001b[39m) \u001b[39m!=\u001b[39m \u001b[39m-\u001b[39m\u001b[39m1\u001b[39m:\n\u001b[1;32m      <a href='vscode-notebook-cell:/home/arjun/Documents/GitHub/Learning-Things/OpenCV/LearningOpenCV/01_ChangingColorFormat.ipynb#W5sZmlsZQ%3D%3D?line=5'>6</a>\u001b[0m         \u001b[39mbreak\u001b[39;00m\n",
      "\u001b[0;31merror\u001b[0m: OpenCV(4.8.0) /io/opencv/modules/highgui/src/window.cpp:1272: error: (-2:Unspecified error) The function is not implemented. Rebuild the library with Windows, GTK+ 2.x or Cocoa support. If you are on Ubuntu or Debian, install libgtk2.0-dev and pkg-config, then re-run cmake or configure script in function 'cvShowImage'\n"
     ]
    }
   ],
   "source": [
    "image2 = cv2.cvtColor(image, cv2.COLOR_BGR2GRAY)       # Grayscale\n",
    "\n",
    "while True:\n",
    "    cv2.imshow('Grey Scale',image2)\n",
    "    if cv2.waitKey(0) == ord('q') or cv2.waitKey(0) != -1:\n",
    "        break\n",
    "cv2.destroyAllWindows()"
   ]
  },
  {
   "cell_type": "code",
   "execution_count": null,
   "metadata": {},
   "outputs": [
    {
     "name": "stdout",
     "output_type": "stream",
     "text": [
      "(900, 1200, 3)\n",
      "(900, 1200)\n"
     ]
    }
   ],
   "source": [
    "print(image.shape)\n",
    "print(image2.shape)\n",
    "# We can see that gray scaling turns 3-d tensor to 2-d tensor"
   ]
  },
  {
   "attachments": {},
   "cell_type": "markdown",
   "metadata": {},
   "source": [
    "RGB format"
   ]
  },
  {
   "cell_type": "code",
   "execution_count": null,
   "metadata": {},
   "outputs": [],
   "source": [
    "image2 = cv2.cvtColor(image, cv2.COLOR_BGR2RGB)        # RGB format\n",
    "\n",
    "while True:\n",
    "    cv2.imshow('RGB',image2)\n",
    "    if cv2.waitKey(0) == ord('q') or cv2.waitKey(0) != -1:\n",
    "        break\n",
    "cv2.destroyAllWindows()"
   ]
  },
  {
   "attachments": {},
   "cell_type": "markdown",
   "metadata": {},
   "source": [
    "HSV format\n",
    "###### HSV format is very useful in color filtering"
   ]
  },
  {
   "cell_type": "code",
   "execution_count": null,
   "metadata": {},
   "outputs": [],
   "source": [
    "hsv_image = cv2.cvtColor(image, cv2.COLOR_BGR2HSV)\n",
    "\n",
    "while True:\n",
    "    cv2.imshow('HSV image', hsv_image)\n",
    "    cv2.imshow('Hue channel', hsv_image[:, :, 0])\n",
    "    cv2.imshow('Saturation channel', hsv_image[:, :, 1])\n",
    "    cv2.imshow('Value channel', hsv_image[:, :, 2])\n",
    "\n",
    "    if cv2.waitKey(0) == ord('q') or cv2.waitKey(0) != -1:\n",
    "        break\n",
    "cv2.destroyAllWindows()"
   ]
  },
  {
   "attachments": {},
   "cell_type": "markdown",
   "metadata": {},
   "source": [
    "Split color channels"
   ]
  },
  {
   "cell_type": "code",
   "execution_count": null,
   "metadata": {},
   "outputs": [],
   "source": [
    "B, G, R = cv2.split(image)\n",
    "\n",
    "while True:\n",
    "    cv2.imshow('B', B)\n",
    "    cv2.imshow('G', G)\n",
    "    cv2.imshow('R', R)\n",
    "\n",
    "    if cv2.waitKey(0) == ord('q') or cv2.waitKey(0) != -1:\n",
    "        break\n",
    "cv2.destroyAllWindows()"
   ]
  },
  {
   "attachments": {},
   "cell_type": "markdown",
   "metadata": {},
   "source": [
    "Merge color channels"
   ]
  },
  {
   "cell_type": "code",
   "execution_count": null,
   "metadata": {},
   "outputs": [],
   "source": [
    "B, G, R = cv2.split(image)\n",
    "\n",
    "# Let's create a matrix of zeros  \n",
    "zeros = np.zeros(image.shape[:2], dtype = \"uint8\")\n",
    "\n",
    "while True:\n",
    "    cv2.imshow(\"All merged back\", cv2.merge([B, G, R]))\n",
    "    cv2.imshow(\"All merged back with amplified blue\", cv2.merge([B+100, G, R]))\n",
    "    cv2.imshow(\"Red\", cv2.merge([zeros, zeros, R]))\n",
    "    cv2.imshow(\"Green\", cv2.merge([zeros, G, zeros]))\n",
    "    cv2.imshow(\"Blue\", cv2.merge([B, zeros, zeros]))\n",
    "\n",
    "    if cv2.waitKey(0) == ord('q') or cv2.waitKey(0) != -1:\n",
    "        break\n",
    "cv2.destroyAllWindows()"
   ]
  }
 ],
 "metadata": {
  "kernelspec": {
   "display_name": "Python 3",
   "language": "python",
   "name": "python3"
  },
  "language_info": {
   "codemirror_mode": {
    "name": "ipython",
    "version": 3
   },
   "file_extension": ".py",
   "mimetype": "text/x-python",
   "name": "python",
   "nbconvert_exporter": "python",
   "pygments_lexer": "ipython3",
   "version": "3.10.12"
  },
  "orig_nbformat": 4
 },
 "nbformat": 4,
 "nbformat_minor": 2
}

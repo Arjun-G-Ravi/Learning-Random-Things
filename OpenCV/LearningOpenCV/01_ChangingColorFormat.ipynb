{
 "cells": [
  {
   "attachments": {},
   "cell_type": "markdown",
   "metadata": {},
   "source": [
    "OpenCV works in BGR format"
   ]
  },
  {
   "cell_type": "code",
   "execution_count": 1,
   "metadata": {},
   "outputs": [],
   "source": [
    "import cv2\n",
    "import numpy as np\n",
    "import matplotlib.pyplot as plt"
   ]
  },
  {
   "cell_type": "code",
   "execution_count": 2,
   "metadata": {},
   "outputs": [],
   "source": [
    "path = 'Peacock.jpg' # Path to image\n",
    "image = cv2.imread(path)"
   ]
  },
  {
   "attachments": {},
   "cell_type": "markdown",
   "metadata": {},
   "source": [
    "# Change color format"
   ]
  },
  {
   "attachments": {},
   "cell_type": "markdown",
   "metadata": {},
   "source": [
    "Gray scale"
   ]
  },
  {
   "cell_type": "code",
   "execution_count": 3,
   "metadata": {},
   "outputs": [],
   "source": [
    "image2 = cv2.cvtColor(image, cv2.COLOR_BGR2GRAY)       # Grayscale\n",
    "\n",
    "while True:\n",
    "    cv2.imshow('Grey Scale',image2)\n",
    "    if cv2.waitKey(0) == ord('q') or cv2.waitKey(0) != -1:\n",
    "        break\n",
    "cv2.destroyAllWindows()"
   ]
  },
  {
   "cell_type": "code",
   "execution_count": 4,
   "metadata": {},
   "outputs": [
    {
     "name": "stdout",
     "output_type": "stream",
     "text": [
      "(900, 1200, 3)\n",
      "(900, 1200)\n"
     ]
    }
   ],
   "source": [
    "print(image.shape)\n",
    "print(image2.shape)\n",
    "# We can see that gray scaling turns 3-d tensor to 2-d tensor"
   ]
  },
  {
   "attachments": {},
   "cell_type": "markdown",
   "metadata": {},
   "source": [
    "RGB format"
   ]
  },
  {
   "cell_type": "code",
   "execution_count": 5,
   "metadata": {},
   "outputs": [],
   "source": [
    "image2 = cv2.cvtColor(image, cv2.COLOR_BGR2RGB)        # RGB format\n",
    "\n",
    "while True:\n",
    "    cv2.imshow('RGB',image2)\n",
    "    if cv2.waitKey(0) == ord('q') or cv2.waitKey(0) != -1:\n",
    "        break\n",
    "cv2.destroyAllWindows()"
   ]
  },
  {
   "attachments": {},
   "cell_type": "markdown",
   "metadata": {},
   "source": [
    "HSV format\n",
    "###### HSV format is very useful in color filtering"
   ]
  },
  {
   "cell_type": "code",
   "execution_count": null,
   "metadata": {},
   "outputs": [],
   "source": [
    "hsv_image = cv2.cvtColor(image, cv2.COLOR_BGR2HSV)\n",
    "\n",
    "while True:\n",
    "    cv2.imshow('HSV image', hsv_image)\n",
    "    cv2.imshow('Hue channel', hsv_image[:, :, 0])\n",
    "    cv2.imshow('Saturation channel', hsv_image[:, :, 1])\n",
    "    cv2.imshow('Value channel', hsv_image[:, :, 2])\n",
    "\n",
    "    if cv2.waitKey(0) == ord('q') or cv2.waitKey(0) != -1:\n",
    "        break\n",
    "cv2.destroyAllWindows()"
   ]
  },
  {
   "attachments": {},
   "cell_type": "markdown",
   "metadata": {},
   "source": [
    "Split color channels"
   ]
  },
  {
   "cell_type": "code",
   "execution_count": null,
   "metadata": {},
   "outputs": [],
   "source": [
    "B, G, R = cv2.split(image)\n",
    "\n",
    "while True:\n",
    "    cv2.imshow('B', B)\n",
    "    cv2.imshow('G', G)\n",
    "    cv2.imshow('R', R)\n",
    "\n",
    "    if cv2.waitKey(0) == ord('q') or cv2.waitKey(0) != -1:\n",
    "        break\n",
    "cv2.destroyAllWindows()"
   ]
  },
  {
   "attachments": {},
   "cell_type": "markdown",
   "metadata": {},
   "source": [
    "Merge color channels"
   ]
  },
  {
   "cell_type": "code",
   "execution_count": null,
   "metadata": {},
   "outputs": [],
   "source": [
    "B, G, R = cv2.split(image)\n",
    "\n",
    "# Let's create a matrix of zeros  \n",
    "zeros = np.zeros(image.shape[:2], dtype = \"uint8\")\n",
    "\n",
    "while True:\n",
    "    cv2.imshow(\"All merged back\", cv2.merge([B, G, R]))\n",
    "    cv2.imshow(\"All merged back with amplified blue\", cv2.merge([B+100, G, R]))\n",
    "    cv2.imshow(\"Red\", cv2.merge([zeros, zeros, R]))\n",
    "    cv2.imshow(\"Green\", cv2.merge([zeros, G, zeros]))\n",
    "    cv2.imshow(\"Blue\", cv2.merge([B, zeros, zeros]))\n",
    "\n",
    "    if cv2.waitKey(0) == ord('q') or cv2.waitKey(0) != -1:\n",
    "        break\n",
    "cv2.destroyAllWindows()"
   ]
  }
 ],
 "metadata": {
  "kernelspec": {
   "display_name": "Python 3",
   "language": "python",
   "name": "python3"
  },
  "language_info": {
   "codemirror_mode": {
    "name": "ipython",
    "version": 3
   },
   "file_extension": ".py",
   "mimetype": "text/x-python",
   "name": "python",
   "nbconvert_exporter": "python",
   "pygments_lexer": "ipython3",
   "version": "3.10.6"
  },
  "orig_nbformat": 4
 },
 "nbformat": 4,
 "nbformat_minor": 2
}

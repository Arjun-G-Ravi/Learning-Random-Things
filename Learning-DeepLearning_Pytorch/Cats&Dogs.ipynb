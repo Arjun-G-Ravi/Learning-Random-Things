{
 "cells": [
  {
   "cell_type": "code",
   "execution_count": 1,
   "metadata": {},
   "outputs": [],
   "source": [
    "from fastai.vision.all import *"
   ]
  },
  {
   "cell_type": "code",
   "execution_count": 7,
   "metadata": {},
   "outputs": [],
   "source": [
    "path_str = \"C:\\\\Users\\Home\\\\.fastai\\\\data\\\\oxford-iiit-pet\\\\images\"\n",
    "path = Path(path_str)"
   ]
  },
  {
   "cell_type": "code",
   "execution_count": 17,
   "metadata": {},
   "outputs": [],
   "source": [
    "def is_cat(x):\n",
    "    return x[0].isupper()\n"
   ]
  },
  {
   "cell_type": "code",
   "execution_count": 21,
   "metadata": {},
   "outputs": [
    {
     "name": "stderr",
     "output_type": "stream",
     "text": [
      "C:\\Users\\Home\\AppData\\Roaming\\Python\\Python39\\site-packages\\torchvision\\models\\_utils.py:208: UserWarning: The parameter 'pretrained' is deprecated since 0.13 and may be removed in the future, please use 'weights' instead.\n",
      "  warnings.warn(\n",
      "C:\\Users\\Home\\AppData\\Roaming\\Python\\Python39\\site-packages\\torchvision\\models\\_utils.py:223: UserWarning: Arguments other than a weight enum or `None` for 'weights' are deprecated since 0.13 and may be removed in the future. The current behavior is equivalent to passing `weights=ResNet18_Weights.IMAGENET1K_V1`. You can also use `weights=ResNet18_Weights.DEFAULT` to get the most up-to-date weights.\n",
      "  warnings.warn(msg)\n"
     ]
    },
    {
     "ename": "TypeError",
     "evalue": "fine_tune() missing 1 required positional argument: 'epochs'",
     "output_type": "error",
     "traceback": [
      "\u001b[1;31m---------------------------------------------------------------------------\u001b[0m",
      "\u001b[1;31mTypeError\u001b[0m                                 Traceback (most recent call last)",
      "Cell \u001b[1;32mIn[21], line 6\u001b[0m\n\u001b[0;32m      1\u001b[0m dls \u001b[39m=\u001b[39m ImageDataLoaders\u001b[39m.\u001b[39mfrom_name_func(\n\u001b[0;32m      2\u001b[0m     path, get_image_files(path), seed \u001b[39m=\u001b[39m \u001b[39m42\u001b[39m, label_func \u001b[39m=\u001b[39m is_cat\n\u001b[0;32m      3\u001b[0m )\n\u001b[0;32m      5\u001b[0m learn \u001b[39m=\u001b[39m vision_learner(dls, arch \u001b[39m=\u001b[39m resnet18, metrics \u001b[39m=\u001b[39m accuracy)\n\u001b[1;32m----> 6\u001b[0m learn\u001b[39m.\u001b[39;49mfine_tune()\n",
      "\u001b[1;31mTypeError\u001b[0m: fine_tune() missing 1 required positional argument: 'epochs'"
     ]
    }
   ],
   "source": [
    "dls = ImageDataLoaders.from_name_func(\n",
    "    path, get_image_files(path), seed = 42, label_func = is_cat\n",
    ")\n",
    "\n",
    "learn = vision_learner(dls, arch = resnet18, metrics = accuracy)\n",
    "learn.fine_tune(1)"
   ]
  }
 ],
 "metadata": {
  "kernelspec": {
   "display_name": "Python 3",
   "language": "python",
   "name": "python3"
  },
  "language_info": {
   "codemirror_mode": {
    "name": "ipython",
    "version": 3
   },
   "file_extension": ".py",
   "mimetype": "text/x-python",
   "name": "python",
   "nbconvert_exporter": "python",
   "pygments_lexer": "ipython3",
   "version": "3.9.9"
  },
  "orig_nbformat": 4,
  "vscode": {
   "interpreter": {
    "hash": "6695315e432dad9365e64f39285f0493c8af918d3cb74b9bae4e100548ae2c82"
   }
  }
 },
 "nbformat": 4,
 "nbformat_minor": 2
}

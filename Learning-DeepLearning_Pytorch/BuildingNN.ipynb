{
 "cells": [
  {
   "cell_type": "code",
   "execution_count": 52,
   "metadata": {},
   "outputs": [],
   "source": [
    "import torch.nn as nn\n",
    "import torch"
   ]
  },
  {
   "cell_type": "code",
   "execution_count": 53,
   "metadata": {},
   "outputs": [],
   "source": [
    "# class Network:\n",
    "#     def __init__(self):\n",
    "#         self.layer = None\n",
    "#     def forward(self,t):\n",
    "#         t = self.layer(t)\n",
    "#         return t"
   ]
  },
  {
   "cell_type": "code",
   "execution_count": 54,
   "metadata": {},
   "outputs": [],
   "source": [
    "class Network(nn.Module):\n",
    "    def __init__(self):\n",
    "        super(Network,self).__init__()\n",
    "        self.conv1 = nn.Conv2d(in_channels=1, out_channels=6, kernel_size=5)\n",
    "        self.conv2 = nn.Conv2d(in_channels=6, out_channels=12, kernel_size=5)\n",
    "        \n",
    "        self.fc1 = nn.Linear(in_features=12*4*4, out_features=120)\n",
    "        self.fc2 = nn.Linear(in_features=120, out_features=60)\n",
    "        self.out = nn.Linear(in_features=60, out_features=10)\n",
    "        \n",
    "    def forward(self,t):\n",
    "        # t = self.layer(t)\n",
    "        return t"
   ]
  },
  {
   "cell_type": "code",
   "execution_count": 55,
   "metadata": {},
   "outputs": [
    {
     "data": {
      "text/plain": [
       "Network(\n",
       "  (conv1): Conv2d(1, 6, kernel_size=(5, 5), stride=(1, 1))\n",
       "  (conv2): Conv2d(6, 12, kernel_size=(5, 5), stride=(1, 1))\n",
       "  (fc1): Linear(in_features=192, out_features=120, bias=True)\n",
       "  (fc2): Linear(in_features=120, out_features=60, bias=True)\n",
       "  (out): Linear(in_features=60, out_features=10, bias=True)\n",
       ")"
      ]
     },
     "metadata": {},
     "output_type": "display_data"
    }
   ],
   "source": [
    "net = Network()\n",
    "display(net)"
   ]
  },
  {
   "cell_type": "code",
   "execution_count": 56,
   "metadata": {},
   "outputs": [
    {
     "data": {
      "text/plain": [
       "Conv2d(1, 6, kernel_size=(5, 5), stride=(1, 1))"
      ]
     },
     "execution_count": 56,
     "metadata": {},
     "output_type": "execute_result"
    }
   ],
   "source": [
    "net.conv1"
   ]
  },
  {
   "cell_type": "code",
   "execution_count": 57,
   "metadata": {},
   "outputs": [
    {
     "data": {
      "text/plain": [
       "Linear(in_features=60, out_features=10, bias=True)"
      ]
     },
     "execution_count": 57,
     "metadata": {},
     "output_type": "execute_result"
    }
   ],
   "source": [
    "net.out"
   ]
  },
  {
   "cell_type": "code",
   "execution_count": 58,
   "metadata": {},
   "outputs": [
    {
     "data": {
      "text/plain": [
       "Parameter containing:\n",
       "tensor([[[[-0.1820, -0.0248,  0.1891,  0.0087,  0.1177],\n",
       "          [ 0.1493,  0.1240,  0.0105, -0.1907, -0.1251],\n",
       "          [-0.0605,  0.1196,  0.0126,  0.1540, -0.1168],\n",
       "          [-0.0634, -0.0063,  0.0253,  0.1265,  0.0774],\n",
       "          [ 0.0214, -0.1671, -0.0112,  0.0363, -0.0894]]],\n",
       "\n",
       "\n",
       "        [[[-0.1666,  0.0468, -0.1273,  0.1610, -0.0119],\n",
       "          [ 0.0701,  0.1826,  0.0596,  0.0067, -0.1470],\n",
       "          [ 0.1431,  0.0352, -0.0334, -0.1812, -0.0925],\n",
       "          [ 0.0616,  0.1752,  0.0499, -0.1772,  0.0792],\n",
       "          [-0.0439,  0.1134,  0.1845, -0.1945, -0.0183]]],\n",
       "\n",
       "\n",
       "        [[[-0.1490, -0.1126,  0.0316, -0.0229,  0.0633],\n",
       "          [ 0.1893,  0.0636, -0.0185,  0.0194, -0.0945],\n",
       "          [-0.0007,  0.1872,  0.0785, -0.0412, -0.0746],\n",
       "          [-0.0129, -0.1846,  0.0166,  0.1071,  0.0494],\n",
       "          [-0.1360, -0.0460,  0.1038,  0.1886,  0.1366]]],\n",
       "\n",
       "\n",
       "        [[[ 0.1503,  0.1296, -0.0272,  0.0882, -0.1415],\n",
       "          [ 0.0080,  0.1733,  0.1981, -0.1753,  0.0805],\n",
       "          [ 0.0365,  0.1304, -0.1009,  0.0264,  0.0899],\n",
       "          [ 0.1314,  0.1033,  0.1632,  0.1701,  0.0597],\n",
       "          [ 0.1064,  0.0462, -0.1659,  0.1729,  0.0165]]],\n",
       "\n",
       "\n",
       "        [[[ 0.0296,  0.1172,  0.1589, -0.1823, -0.1626],\n",
       "          [-0.1284, -0.0644, -0.1361,  0.1634, -0.1568],\n",
       "          [ 0.0031,  0.0840,  0.1408, -0.0002, -0.0905],\n",
       "          [ 0.1741,  0.1790, -0.1223,  0.1672, -0.0486],\n",
       "          [-0.1110,  0.0033,  0.0942, -0.0908, -0.0603]]],\n",
       "\n",
       "\n",
       "        [[[-0.0667, -0.0065,  0.1085,  0.1698, -0.0505],\n",
       "          [ 0.1053, -0.1277, -0.1079, -0.0788,  0.1373],\n",
       "          [ 0.0112, -0.1079, -0.0245, -0.1502,  0.1010],\n",
       "          [ 0.0771, -0.1592,  0.0191, -0.0782, -0.0738],\n",
       "          [-0.0117,  0.0885, -0.1115, -0.1108,  0.1332]]]], requires_grad=True)"
      ]
     },
     "execution_count": 58,
     "metadata": {},
     "output_type": "execute_result"
    }
   ],
   "source": [
    "net.conv1.weight    #These are learnable parameters that are learned as we train the nnka"
   ]
  },
  {
   "cell_type": "code",
   "execution_count": 67,
   "metadata": {},
   "outputs": [
    {
     "data": {
      "text/plain": [
       "torch.Size([6, 1, 5, 5])"
      ]
     },
     "execution_count": 67,
     "metadata": {},
     "output_type": "execute_result"
    }
   ],
   "source": [
    "net.conv1.weight.shape"
   ]
  }
 ],
 "metadata": {
  "kernelspec": {
   "display_name": "Python 3",
   "language": "python",
   "name": "python3"
  },
  "language_info": {
   "codemirror_mode": {
    "name": "ipython",
    "version": 3
   },
   "file_extension": ".py",
   "mimetype": "text/x-python",
   "name": "python",
   "nbconvert_exporter": "python",
   "pygments_lexer": "ipython3",
   "version": "3.9.9 (tags/v3.9.9:ccb0e6a, Nov 15 2021, 18:08:50) [MSC v.1929 64 bit (AMD64)]"
  },
  "orig_nbformat": 4,
  "vscode": {
   "interpreter": {
    "hash": "6695315e432dad9365e64f39285f0493c8af918d3cb74b9bae4e100548ae2c82"
   }
  }
 },
 "nbformat": 4,
 "nbformat_minor": 2
}
